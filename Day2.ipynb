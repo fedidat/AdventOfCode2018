{
 "cells": [
  {
   "cell_type": "markdown",
   "metadata": {},
   "source": [
    "[current dir](.)"
   ]
  },
  {
   "cell_type": "code",
   "execution_count": 1,
   "metadata": {
    "scrolled": true
   },
   "outputs": [
    {
     "data": {
      "text/plain": [
       "['prtkqyluibmtcwqaezjmhgfndx',\n",
       " 'prtkqylusbsmcwvaezjmhgfndt',\n",
       " 'prgkqyluibsocwvamzjmhgkndx',\n",
       " 'prjkqyluibsocwvahzjmhgfnsx',\n",
       " 'prtkqylcibsocwvzezjohgfndx']"
      ]
     },
     "execution_count": 1,
     "metadata": {},
     "output_type": "execute_result"
    }
   ],
   "source": [
    "with open('inputs/Day2.txt') as file:\n",
    "    input = file.read().splitlines()\n",
    "input[:5]"
   ]
  },
  {
   "cell_type": "markdown",
   "metadata": {},
   "source": [
    "Part 1"
   ]
  },
  {
   "cell_type": "code",
   "execution_count": 2,
   "metadata": {},
   "outputs": [
    {
     "data": {
      "text/plain": [
       "6723"
      ]
     },
     "execution_count": 2,
     "metadata": {},
     "output_type": "execute_result"
    }
   ],
   "source": [
    "import string\n",
    "import numpy as np\n",
    "\n",
    "def part1():\n",
    "    freqs = [[0 for _ in range(26)] for _ in range(len(input))]\n",
    "    for idx, val in enumerate(input):\n",
    "        for char in list(val):\n",
    "            freqs[idx][string.ascii_lowercase.index(char)] += 1\n",
    "    counters = [0, 0]\n",
    "    for row in freqs:\n",
    "        if 2 in row:\n",
    "            counters[0] += 1\n",
    "        if 3 in row:\n",
    "            counters[1] += 1\n",
    "    return np.prod(counters)\n",
    "\n",
    "part1()"
   ]
  },
  {
   "cell_type": "markdown",
   "metadata": {},
   "source": [
    "Part 2"
   ]
  },
  {
   "cell_type": "code",
   "execution_count": 4,
   "metadata": {},
   "outputs": [
    {
     "data": {
      "text/plain": [
       "'prtkqyluiusocwvaezjmhmfgx'"
      ]
     },
     "execution_count": 4,
     "metadata": {},
     "output_type": "execute_result"
    }
   ],
   "source": [
    "import itertools\n",
    "\n",
    "def part2():\n",
    "    for (str1, str2) in list(itertools.combinations(input, r=2)):\n",
    "        if dist(str1, str2) == 1:\n",
    "            return ''.join([c for i, c in enumerate(str1) if str2[i] == c])\n",
    "\n",
    "def dist(str1, str2):\n",
    "    diff = 0\n",
    "    for c1, c2 in zip(str1, str2):\n",
    "        if c1 != c2:\n",
    "            diff += 1\n",
    "    return diff\n",
    "\n",
    "part2()"
   ]
  }
 ],
 "metadata": {
  "kernelspec": {
   "display_name": "Python 3",
   "language": "python",
   "name": "python3"
  },
  "language_info": {
   "codemirror_mode": {
    "name": "ipython",
    "version": 3
   },
   "file_extension": ".py",
   "mimetype": "text/x-python",
   "name": "python",
   "nbconvert_exporter": "python",
   "pygments_lexer": "ipython3",
   "version": "3.7.0"
  }
 },
 "nbformat": 4,
 "nbformat_minor": 2
}
