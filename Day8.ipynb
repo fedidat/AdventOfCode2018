{
 "cells": [
  {
   "cell_type": "markdown",
   "metadata": {},
   "source": [
    "[current dir](.)"
   ]
  },
  {
   "cell_type": "code",
   "execution_count": 1,
   "metadata": {
    "ExecuteTime": {
     "end_time": "2018-12-08T18:51:56.145245Z",
     "start_time": "2018-12-08T18:51:56.134863Z"
    },
    "scrolled": true
   },
   "outputs": [
    {
     "name": "stdout",
     "output_type": "stream",
     "text": [
      "14526 [7, 11, 6, 3, 5]\n"
     ]
    }
   ],
   "source": [
    "with open('inputs/Day8.txt') as file:\n",
    "    input = file.read()\n",
    "\n",
    "#input = \"2 3 0 3 10 11 12 1 1 0 1 99 2 1 1 2\"\n",
    "input = list(map(int, input.split(' ')))\n",
    "\n",
    "print(len(input), input[:5])"
   ]
  },
  {
   "cell_type": "code",
   "execution_count": 2,
   "metadata": {},
   "outputs": [],
   "source": [
    "class Node:\n",
    "    def __init__(self, nodes=[], metadata=[]):\n",
    "        self._nodes = nodes\n",
    "        self._metadata = metadata\n",
    "    def addNode(self, node):\n",
    "        self._nodes.append(node)\n",
    "    def addMetadata(self, data):\n",
    "        self._metadata.append(data)\n",
    "    def __repr__(self):\n",
    "        return \"Node\" + str([self._nodes, self._metadata])"
   ]
  },
  {
   "cell_type": "code",
   "execution_count": 3,
   "metadata": {},
   "outputs": [],
   "source": [
    "def createNode(values, idx):\n",
    "    curNode = Node([], [])\n",
    "    nodes_num = values[idx]\n",
    "    metadata_num = values[idx+1]\n",
    "    idx += 2\n",
    "    for _ in range(nodes_num):\n",
    "        idx, add = createNode(values, idx)\n",
    "        curNode.addNode(add)\n",
    "    for data in values[idx:idx+metadata_num]:\n",
    "        curNode.addMetadata(data)\n",
    "    return idx+metadata_num, curNode\n",
    "_, rootNode = createNode(input, 0)"
   ]
  },
  {
   "cell_type": "markdown",
   "metadata": {},
   "source": [
    "Part 1"
   ]
  },
  {
   "cell_type": "code",
   "execution_count": 10,
   "metadata": {
    "ExecuteTime": {
     "end_time": "2018-12-08T18:50:22.805712Z",
     "start_time": "2018-12-08T18:50:22.784074Z"
    },
    "code_folding": [],
    "run_control": {
     "marked": false
    }
   },
   "outputs": [
    {
     "name": "stdout",
     "output_type": "stream",
     "text": [
      "37262\n"
     ]
    }
   ],
   "source": [
    "def metadataSum(node):\n",
    "    nodeSum = 0\n",
    "    for child in node._nodes:\n",
    "        nodeSum += metadataSum(child)\n",
    "    for data in node._metadata:\n",
    "        nodeSum += data\n",
    "    return nodeSum\n",
    "\n",
    "def part1():\n",
    "    rootSum = metadataSum(rootNode)\n",
    "    print(rootSum)\n",
    "    \n",
    "part1()"
   ]
  },
  {
   "cell_type": "markdown",
   "metadata": {},
   "source": [
    "Part 2"
   ]
  },
  {
   "cell_type": "code",
   "execution_count": 11,
   "metadata": {},
   "outputs": [
    {
     "name": "stdout",
     "output_type": "stream",
     "text": [
      "20839\n"
     ]
    }
   ],
   "source": [
    "def nodeValue(node):\n",
    "    nodeSum = 0    \n",
    "    if len(node._nodes) > 0:\n",
    "        for data in node._metadata:\n",
    "            if data <= len(node._nodes):\n",
    "                nodeSum += nodeValue(node._nodes[data-1])\n",
    "    else:\n",
    "        for data in node._metadata:\n",
    "            nodeSum += data\n",
    "    return nodeSum\n",
    "\n",
    "def part2():\n",
    "    rootValue = nodeValue(rootNode)\n",
    "    print(rootValue)\n",
    "    \n",
    "part2()"
   ]
  }
 ],
 "metadata": {
  "kernelspec": {
   "display_name": "Python 3",
   "language": "python",
   "name": "python3"
  },
  "language_info": {
   "codemirror_mode": {
    "name": "ipython",
    "version": 3
   },
   "file_extension": ".py",
   "mimetype": "text/x-python",
   "name": "python",
   "nbconvert_exporter": "python",
   "pygments_lexer": "ipython3",
   "version": "3.7.0"
  },
  "varInspector": {
   "cols": {
    "lenName": 16,
    "lenType": 16,
    "lenVar": 40
   },
   "kernels_config": {
    "python": {
     "delete_cmd_postfix": "",
     "delete_cmd_prefix": "del ",
     "library": "var_list.py",
     "varRefreshCmd": "print(var_dic_list())"
    },
    "r": {
     "delete_cmd_postfix": ") ",
     "delete_cmd_prefix": "rm(",
     "library": "var_list.r",
     "varRefreshCmd": "cat(var_dic_list()) "
    }
   },
   "oldHeight": 247.85000000000002,
   "position": {
    "height": "40px",
    "left": "1760px",
    "right": "36px",
    "top": "119px",
    "width": "440px"
   },
   "types_to_exclude": [
    "module",
    "function",
    "builtin_function_or_method",
    "instance",
    "_Feature"
   ],
   "varInspector_section_display": "none",
   "window_display": false
  }
 },
 "nbformat": 4,
 "nbformat_minor": 2
}
