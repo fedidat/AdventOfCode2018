{
 "cells": [
  {
   "cell_type": "markdown",
   "metadata": {},
   "source": [
    "[current dir](.)"
   ]
  },
  {
   "cell_type": "code",
   "execution_count": 1,
   "metadata": {
    "scrolled": true
   },
   "outputs": [
    {
     "name": "stdout",
     "output_type": "stream",
     "text": [
      "['#1 @ 604,100: 17x27', '#2 @ 861,26: 23x24', '#3 @ 875,844: 29x20', '#4 @ 524,114: 24x24', '#5 @ 696,820: 26x19']\n"
     ]
    },
    {
     "data": {
      "text/plain": [
       "[[604, 100, 17, 27],\n",
       " [861, 26, 23, 24],\n",
       " [875, 844, 29, 20],\n",
       " [524, 114, 24, 24],\n",
       " [696, 820, 26, 19]]"
      ]
     },
     "execution_count": 1,
     "metadata": {},
     "output_type": "execute_result"
    }
   ],
   "source": [
    "with open('inputs/Day3.txt') as file:\n",
    "    inputlines = file.read().splitlines()\n",
    "print(inputlines[:5])\n",
    "\n",
    "import re\n",
    "input = []\n",
    "for line in inputlines:\n",
    "    m = re.search('^#\\d+ @ (\\d+),(\\d+): (\\d+)x(\\d+)$', line)\n",
    "    input.append(list(map(int, m.groups())))\n",
    "input[:5]"
   ]
  },
  {
   "cell_type": "markdown",
   "metadata": {},
   "source": [
    "Part 1"
   ]
  },
  {
   "cell_type": "code",
   "execution_count": 2,
   "metadata": {},
   "outputs": [
    {
     "data": {
      "text/plain": [
       "115348"
      ]
     },
     "execution_count": 2,
     "metadata": {},
     "output_type": "execute_result"
    }
   ],
   "source": [
    "h = 1000\n",
    "w = 1000\n",
    "\n",
    "def part1():\n",
    "    board = [[0 for _ in range(w)] for _ in range(h)]\n",
    "    \n",
    "    #Mark each square with the number of claims on it\n",
    "    for claim in input:\n",
    "        for i in range(claim[0], claim[0]+claim[2]):\n",
    "            for j in range(claim[1], claim[1]+claim[3]):\n",
    "                board[i][j] += 1\n",
    "    \n",
    "    #Count squares with more than one claim (overlap)\n",
    "    counter = 0\n",
    "    for i in range(h):\n",
    "        for j in range(w):\n",
    "            if board[i][j] > 1:\n",
    "                counter += 1\n",
    "    return counter\n",
    "\n",
    "part1()"
   ]
  },
  {
   "cell_type": "markdown",
   "metadata": {},
   "source": [
    "Part 2"
   ]
  },
  {
   "cell_type": "code",
   "execution_count": 3,
   "metadata": {},
   "outputs": [
    {
     "data": {
      "text/plain": [
       "188"
      ]
     },
     "execution_count": 3,
     "metadata": {},
     "output_type": "execute_result"
    }
   ],
   "source": [
    "import itertools\n",
    "\n",
    "def part2():\n",
    "    invalid = [False for _ in range(len(input))]\n",
    "    \n",
    "    #For each pair, if overlaps, invalidate\n",
    "    for (claim1, claim2) in list(itertools.combinations(input, r=2)):\n",
    "        if overlap(claim1, claim2) == True:\n",
    "            invalid[input.index(claim1)] = True\n",
    "            invalid[input.index(claim2)] = True\n",
    "    \n",
    "    #Find non-overlapping claim\n",
    "    for idx, status in enumerate(invalid):\n",
    "        if status == False:\n",
    "            return idx+1\n",
    "\n",
    "def overlap(claim1, claim2):\n",
    "    if(claim1[0] + claim1[2] > claim2[0]\n",
    "      and claim1[0] < claim2[0] + claim2[2]\n",
    "      and claim1[1] + claim1[3] > claim2[1]\n",
    "      and claim1[1] < claim2[1] + claim2[3]):\n",
    "        return True\n",
    "    return False\n",
    "\n",
    "part2()"
   ]
  }
 ],
 "metadata": {
  "kernelspec": {
   "display_name": "Python 3",
   "language": "python",
   "name": "python3"
  },
  "language_info": {
   "codemirror_mode": {
    "name": "ipython",
    "version": 3
   },
   "file_extension": ".py",
   "mimetype": "text/x-python",
   "name": "python",
   "nbconvert_exporter": "python",
   "pygments_lexer": "ipython3",
   "version": "3.7.0"
  }
 },
 "nbformat": 4,
 "nbformat_minor": 2
}
