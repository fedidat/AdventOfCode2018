{
 "cells": [
  {
   "cell_type": "markdown",
   "metadata": {},
   "source": [
    "[current dir](.)"
   ]
  },
  {
   "cell_type": "code",
   "execution_count": null,
   "metadata": {},
   "outputs": [],
   "source": [
    "# filename = 'inputs/Day25-example.txt'\n",
    "filename = 'inputs/Day25.txt'\n",
    "lines = open(filename).read().splitlines()\n",
    "print(len(lines), lines[:10])"
   ]
  },
  {
   "cell_type": "code",
   "execution_count": null,
   "metadata": {},
   "outputs": [],
   "source": [
    "import re\n",
    "expr = '(-?\\d+),(-?\\d+),(-?\\d+),(-?\\d+)'\n",
    "allPointsL = [list(map(int, re.match(expr, l).groups())) for l in lines]\n",
    "print(allPointsL[:10])"
   ]
  },
  {
   "cell_type": "markdown",
   "metadata": {},
   "source": [
    "Part 1"
   ]
  },
  {
   "cell_type": "code",
   "execution_count": null,
   "metadata": {},
   "outputs": [],
   "source": [
    "def manhattan(p1, p2):\n",
    "    return sum(abs(x1 - x2) for (x1, x2) in zip(p1, p2))"
   ]
  },
  {
   "cell_type": "code",
   "execution_count": null,
   "metadata": {},
   "outputs": [],
   "source": [
    "from copy import copy\n",
    "\n",
    "def part1():\n",
    "    allPoints = copy(allPointsL)\n",
    "    count = 0\n",
    "    while allPoints:\n",
    "        count += 1\n",
    "        currentC = [allPoints[0]]\n",
    "        del allPoints[0]\n",
    "\n",
    "        pointsJoined = True\n",
    "        while pointsJoined:\n",
    "            pointsToAdd = [pt for pt in allPoints for inConst in currentC if manhattan(inConst, pt) <= 3]\n",
    "            pointsJoined = True if pointsToAdd else False\n",
    "            for pt in pointsToAdd:\n",
    "                if pt in allPoints:\n",
    "                    allPoints.remove(pt)\n",
    "                    currentC.append(pt)\n",
    "    return count\n",
    "\n",
    "part1()"
   ]
  }
 ],
 "metadata": {
  "kernelspec": {
   "display_name": "Python 3",
   "language": "python",
   "name": "python3"
  },
  "language_info": {
   "codemirror_mode": {
    "name": "ipython",
    "version": 3
   },
   "file_extension": ".py",
   "mimetype": "text/x-python",
   "name": "python",
   "nbconvert_exporter": "python",
   "pygments_lexer": "ipython3",
   "version": "3.7.0"
  },
  "varInspector": {
   "cols": {
    "lenName": 16,
    "lenType": 16,
    "lenVar": 40
   },
   "kernels_config": {
    "python": {
     "delete_cmd_postfix": "",
     "delete_cmd_prefix": "del ",
     "library": "var_list.py",
     "varRefreshCmd": "print(var_dic_list())"
    },
    "r": {
     "delete_cmd_postfix": ") ",
     "delete_cmd_prefix": "rm(",
     "library": "var_list.r",
     "varRefreshCmd": "cat(var_dic_list()) "
    }
   },
   "oldHeight": 247.85000000000002,
   "position": {
    "height": "40px",
    "left": "1760px",
    "right": "36px",
    "top": "119px",
    "width": "440px"
   },
   "types_to_exclude": [
    "module",
    "function",
    "builtin_function_or_method",
    "instance",
    "_Feature"
   ],
   "varInspector_section_display": "none",
   "window_display": false
  }
 },
 "nbformat": 4,
 "nbformat_minor": 2
}
