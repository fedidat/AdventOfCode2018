{
 "cells": [
  {
   "cell_type": "markdown",
   "metadata": {},
   "source": [
    "[current dir](.)"
   ]
  },
  {
   "cell_type": "code",
   "execution_count": 1,
   "metadata": {
    "ExecuteTime": {
     "start_time": "2018-12-09T22:37:27.486Z"
    }
   },
   "outputs": [
    {
     "data": {
      "text/plain": [
       "['################################',\n",
       " '#####################...########',\n",
       " '###################....G########',\n",
       " '###################....#########',\n",
       " '#######.##########......########',\n",
       " '#######G#########........#######',\n",
       " '#######G#######.G.........######',\n",
       " '#######.######..G.........######',\n",
       " '#######.......##.G...G.G..######',\n",
       " '########..##..#....G......G#####',\n",
       " '############...#.....G.....#####',\n",
       " '#...#######..........G.#...#####',\n",
       " '#...#######...#####G......######',\n",
       " '##...######..#######G.....#.##.#',\n",
       " '###.G.#####.#########G.........#',\n",
       " '###G..#####.#########.......#.E#',\n",
       " '###..######.#########..........#',\n",
       " '###.......#.#########.....E..E.#',\n",
       " '#####G...#..#########.......#..#',\n",
       " '####.G.#.#...#######.....G.....#',\n",
       " '########......#####...........##',\n",
       " '###########..................###',\n",
       " '##########.................#####',\n",
       " '##########.................#####',\n",
       " '############..E.........E.....##',\n",
       " '############.........E........##',\n",
       " '###############.#............E##',\n",
       " '##################...E..E..##.##',\n",
       " '####################.#E..####.##',\n",
       " '################.....######...##',\n",
       " '#################.#..###########',\n",
       " '################################']"
      ]
     },
     "execution_count": 1,
     "metadata": {},
     "output_type": "execute_result"
    }
   ],
   "source": [
    "# filename = 'inputs/Day15-example.txt'\n",
    "# filename = 'inputs/Day15-example2.txt'\n",
    "# filename = 'inputs/Day15-example3.txt'\n",
    "# filename = 'inputs/Day15-example4.txt'\n",
    "# filename = 'inputs/Day15-example5.txt'\n",
    "filename = 'inputs/Day15.txt'\n",
    "lines = open(filename).read().splitlines()\n",
    "lines"
   ]
  },
  {
   "cell_type": "code",
   "execution_count": 2,
   "metadata": {},
   "outputs": [],
   "source": [
    "from typing import NamedTuple\n",
    "\n",
    "class Pt(NamedTuple('Pt', [('x', int), ('y', int)])):\n",
    "    def __add__(self, other):\n",
    "        return type(self)(self.x + other.x, self.y + other.y)\n",
    "\n",
    "    @property\n",
    "    def nb4(self):\n",
    "        return [self + d for d in [Pt(0, 1), Pt(1, 0), Pt(0, -1), Pt(-1, 0)]]"
   ]
  },
  {
   "cell_type": "code",
   "execution_count": 3,
   "metadata": {},
   "outputs": [],
   "source": [
    "import enum\n",
    "\n",
    "class Team(enum.Enum):\n",
    "    ELF = enum.auto()\n",
    "    GOBLIN = enum.auto()"
   ]
  },
  {
   "cell_type": "code",
   "execution_count": 4,
   "metadata": {},
   "outputs": [],
   "source": [
    "from dataclasses import dataclass\n",
    "\n",
    "@dataclass\n",
    "class Unit:\n",
    "    team: Team\n",
    "    position: Pt\n",
    "    hp: int = 200\n",
    "    alive: bool = True\n",
    "    power: int = 3"
   ]
  },
  {
   "cell_type": "code",
   "execution_count": 5,
   "metadata": {},
   "outputs": [],
   "source": [
    "import collections\n",
    "\n",
    "class ElfDied(Exception):\n",
    "    pass\n",
    "\n",
    "class Grid(dict):\n",
    "    def __init__(self, lines, power=3):\n",
    "        super().__init__()\n",
    "\n",
    "        self.units = []\n",
    "\n",
    "        for i, line in enumerate(lines):\n",
    "            for j, el in enumerate(line):\n",
    "                self[Pt(i, j)] = el == '#'\n",
    "\n",
    "                if el in 'EG':\n",
    "                    self.units.append(Unit(\n",
    "                        team={'E': Team.ELF, 'G': Team.GOBLIN}[el],\n",
    "                        position=Pt(i, j),\n",
    "                        power={'E': power, 'G': 3}[el]\n",
    "                    ))\n",
    "\n",
    "    def play(self, elf_death=False):\n",
    "        rounds = 0\n",
    "        while True:\n",
    "            if self.round(elf_death=elf_death):\n",
    "                break\n",
    "            rounds += 1\n",
    "        return rounds * sum(unit.hp for unit in self.units if unit.alive)\n",
    "\n",
    "    def round(self, elf_death=False):\n",
    "        for unit in sorted(self.units, key=lambda unit: unit.position):\n",
    "            if unit.alive:\n",
    "                if self.move(unit, elf_death=elf_death):\n",
    "                    return True\n",
    "\n",
    "    def move(self, unit, elf_death=False):\n",
    "        targets = [target for target in self.units if unit.team != target.team and target.alive]\n",
    "        occupied = set(u2.position for u2 in self.units if u2.alive and unit != u2)\n",
    "\n",
    "        if not targets:\n",
    "            return True\n",
    "\n",
    "        in_range = set(pt for target in targets for pt in target.position.nb4 if not self[pt] and pt not in occupied)\n",
    "\n",
    "        if not unit.position in in_range:\n",
    "            move = self.find_move(unit.position, in_range)\n",
    "\n",
    "            if move:\n",
    "                unit.position = move\n",
    "\n",
    "        opponents = [target for target in targets if target.position in unit.position.nb4]\n",
    "\n",
    "        if opponents:\n",
    "            target = min(opponents, key=lambda unit: (unit.hp, unit.position))\n",
    "\n",
    "            target.hp -= unit.power\n",
    "\n",
    "            if target.hp <= 0:\n",
    "                target.alive = False\n",
    "                if elf_death and target.team == Team.ELF:\n",
    "                    raise ElfDied()\n",
    "\n",
    "    def find_move(self, position, targets):\n",
    "        visiting = collections.deque([(position, 0)])\n",
    "        meta = {position: (0, None)}\n",
    "        seen = set()\n",
    "        occupied = {unit.position for unit in self.units if unit.alive}\n",
    "\n",
    "        while visiting:\n",
    "            pos, dist = visiting.popleft()\n",
    "            for nb in pos.nb4:\n",
    "                if self[nb] or nb in occupied:\n",
    "                    continue\n",
    "                if nb not in meta or meta[nb] > (dist + 1, pos):\n",
    "                    meta[nb] = (dist + 1, pos)\n",
    "                if nb in seen:\n",
    "                    continue\n",
    "                if not any(nb == visit[0] for visit in visiting):\n",
    "                    visiting.append((nb, dist + 1))\n",
    "            seen.add(pos)\n",
    "\n",
    "        try:\n",
    "            min_dist, closest = min((dist, pos) for pos, (dist, parent) in meta.items() if pos in targets)\n",
    "        except ValueError:\n",
    "            return\n",
    "\n",
    "        while meta[closest][0] > 1:\n",
    "            closest = meta[closest][1]\n",
    "\n",
    "        return closest"
   ]
  },
  {
   "cell_type": "markdown",
   "metadata": {},
   "source": [
    "Part 1"
   ]
  },
  {
   "cell_type": "code",
   "execution_count": 11,
   "metadata": {
    "ExecuteTime": {
     "start_time": "2018-12-09T22:37:12.082Z"
    },
    "code_folding": [],
    "run_control": {
     "marked": false
    }
   },
   "outputs": [
    {
     "data": {
      "text/plain": [
       "201638"
      ]
     },
     "execution_count": 11,
     "metadata": {},
     "output_type": "execute_result"
    }
   ],
   "source": [
    "grid = Grid(lines)\n",
    "\n",
    "grid.play()"
   ]
  },
  {
   "cell_type": "markdown",
   "metadata": {},
   "source": [
    "Part 2"
   ]
  },
  {
   "cell_type": "code",
   "execution_count": 7,
   "metadata": {
    "ExecuteTime": {
     "start_time": "2018-12-09T22:37:15.225Z"
    }
   },
   "outputs": [
    {
     "name": "stdout",
     "output_type": "stream",
     "text": [
      "95764\n"
     ]
    }
   ],
   "source": [
    "import itertools\n",
    "\n",
    "grid = Grid(lines)\n",
    "\n",
    "for power in itertools.count(4):\n",
    "    try:\n",
    "        outcome = Grid(lines, power).play(elf_death=True)\n",
    "    except ElfDied:\n",
    "        continue\n",
    "    else:\n",
    "        print(outcome)\n",
    "        break"
   ]
  }
 ],
 "metadata": {
  "kernelspec": {
   "display_name": "Python 3",
   "language": "python",
   "name": "python3"
  },
  "language_info": {
   "codemirror_mode": {
    "name": "ipython",
    "version": 3
   },
   "file_extension": ".py",
   "mimetype": "text/x-python",
   "name": "python",
   "nbconvert_exporter": "python",
   "pygments_lexer": "ipython3",
   "version": "3.7.0"
  },
  "varInspector": {
   "cols": {
    "lenName": 16,
    "lenType": 16,
    "lenVar": 40
   },
   "kernels_config": {
    "python": {
     "delete_cmd_postfix": "",
     "delete_cmd_prefix": "del ",
     "library": "var_list.py",
     "varRefreshCmd": "print(var_dic_list())"
    },
    "r": {
     "delete_cmd_postfix": ") ",
     "delete_cmd_prefix": "rm(",
     "library": "var_list.r",
     "varRefreshCmd": "cat(var_dic_list()) "
    }
   },
   "oldHeight": 247.85000000000002,
   "position": {
    "height": "40px",
    "left": "1760px",
    "right": "36px",
    "top": "119px",
    "width": "440px"
   },
   "types_to_exclude": [
    "module",
    "function",
    "builtin_function_or_method",
    "instance",
    "_Feature"
   ],
   "varInspector_section_display": "none",
   "window_display": false
  }
 },
 "nbformat": 4,
 "nbformat_minor": 2
}
