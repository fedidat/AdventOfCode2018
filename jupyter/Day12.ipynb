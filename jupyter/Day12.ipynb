{
 "cells": [
  {
   "cell_type": "markdown",
   "metadata": {},
   "source": [
    "[current dir](.)"
   ]
  },
  {
   "cell_type": "code",
   "execution_count": 1,
   "metadata": {
    "ExecuteTime": {
     "start_time": "2018-12-09T22:37:27.486Z"
    }
   },
   "outputs": [
    {
     "name": "stdout",
     "output_type": "stream",
     "text": [
      "94 pots #.#.#....##...##...##...#.##.#.###...#.##...#....#.#...#.##.........#.#...#..##.#.....#..#.###\n",
      "32 rules: {'####.': '#', '..#..': '.', '#.#..': '.', '.##..': '.', '##...': '.', '#.##.': '#', '##.#.': '.', '##..#': '.', '.###.': '.', '.#.##': '.', '.#..#': '#', '.....': '.', '###..': '#', '#..##': '.', '##.##': '.', '#....': '.', '...##': '#', '....#': '.', '#.#.#': '#', '###.#': '.', '.####': '#', '.#...': '#', '#.###': '.', '..###': '.', '.#.#.': '#', '.##.#': '.', '#..#.': '#', '...#.': '.', '#...#': '#', '..##.': '.', '#####': '#', '..#.#': '#'}\n"
     ]
    }
   ],
   "source": [
    "# with open('inputs/Day12-example.txt') as file:\n",
    "with open('inputs/Day12.txt') as file:\n",
    "    inputlines = file.read().splitlines()\n",
    "\n",
    "pots = inputlines[0][15:]\n",
    "print(len(pots), \"pots\", pots)\n",
    "inputrules = inputlines[2:]\n",
    "rules = {line[:5]: line[-1] for line in inputrules}\n",
    "print(str(len(rules)) + \" rules: \" + str(rules))"
   ]
  },
  {
   "cell_type": "markdown",
   "metadata": {},
   "source": [
    "Part 1"
   ]
  },
  {
   "cell_type": "code",
   "execution_count": 2,
   "metadata": {
    "ExecuteTime": {
     "start_time": "2018-12-09T22:37:12.082Z"
    },
    "code_folding": [],
    "run_control": {
     "marked": false
    }
   },
   "outputs": [
    {
     "name": "stdout",
     "output_type": "stream",
     "text": [
      "1733\n"
     ]
    }
   ],
   "source": [
    "from collections import defaultdict\n",
    "from copy import copy\n",
    "\n",
    "def part1():\n",
    "    potmap = defaultdict(lambda: '.')\n",
    "    for pos, pot in enumerate(list(pots)):\n",
    "        potmap[pos] = pot\n",
    "    for gen in range(20):\n",
    "        newpots = defaultdict(lambda: '.')\n",
    "        for idx in range(min(potmap)-2, max(potmap)+3):\n",
    "            rpots = [potmap[i] for i in range(idx-2, idx+3)]\n",
    "            newpots[idx] = rules.get(''.join(rpots), '.')\n",
    "        potmap = newpots\n",
    "    print(sum(idx for idx, pot in potmap.items() if pot == '#'))\n",
    "    \n",
    "part1()"
   ]
  },
  {
   "cell_type": "markdown",
   "metadata": {},
   "source": [
    "Part 2"
   ]
  },
  {
   "cell_type": "code",
   "execution_count": 3,
   "metadata": {
    "ExecuteTime": {
     "start_time": "2018-12-09T22:37:15.225Z"
    }
   },
   "outputs": [
    {
     "data": {
      "text/plain": [
       "1000000000528"
      ]
     },
     "execution_count": 3,
     "metadata": {},
     "output_type": "execute_result"
    }
   ],
   "source": [
    "from collections import defaultdict\n",
    "from copy import copy\n",
    "\n",
    "def part2():\n",
    "    potmap = defaultdict(lambda: '.')\n",
    "    for pos, pot in enumerate(list(pots)):\n",
    "        potmap[pos] = pot\n",
    "    seen = {}\n",
    "    potmaps = {}\n",
    "    for gen in range(1000):\n",
    "        newpots = defaultdict(lambda: '.')\n",
    "        for idx in range(min(potmap)-2, max(potmap)+3):\n",
    "            rpots = [potmap[i] for i in range(idx-2, idx+3)]\n",
    "            newpots[idx] = rules.get(''.join(rpots), '.')\n",
    "        potmap = newpots\n",
    "        \n",
    "        potstr = ''.join(potmap.values()).strip('.')\n",
    "        if potstr in seen.values():\n",
    "            #running for some number of generations reveals that each following cycle increase by soem number\n",
    "            sumsofar = sum(idx for idx, pot in potmap.items() if pot == '#')\n",
    "            lastgensum = sum(idx for idx, pot in potmaps[gen-1].items() if pot == '#') \n",
    "            res = sumsofar + (50000000000 - gen) * (sumsofar - lastgensum)\n",
    "            return res\n",
    "        seen[gen] = potstr\n",
    "        potmaps[gen] = potmap\n",
    "    print(sum(idx for idx, pot in potmap.items() if pot == '#'))\n",
    "    \n",
    "part2()"
   ]
  }
 ],
 "metadata": {
  "kernelspec": {
   "display_name": "Python 3",
   "language": "python",
   "name": "python3"
  },
  "language_info": {
   "codemirror_mode": {
    "name": "ipython",
    "version": 3
   },
   "file_extension": ".py",
   "mimetype": "text/x-python",
   "name": "python",
   "nbconvert_exporter": "python",
   "pygments_lexer": "ipython3",
   "version": "3.7.0"
  },
  "varInspector": {
   "cols": {
    "lenName": 16,
    "lenType": 16,
    "lenVar": 40
   },
   "kernels_config": {
    "python": {
     "delete_cmd_postfix": "",
     "delete_cmd_prefix": "del ",
     "library": "var_list.py",
     "varRefreshCmd": "print(var_dic_list())"
    },
    "r": {
     "delete_cmd_postfix": ") ",
     "delete_cmd_prefix": "rm(",
     "library": "var_list.r",
     "varRefreshCmd": "cat(var_dic_list()) "
    }
   },
   "oldHeight": 247.85000000000002,
   "position": {
    "height": "40px",
    "left": "1760px",
    "right": "36px",
    "top": "119px",
    "width": "440px"
   },
   "types_to_exclude": [
    "module",
    "function",
    "builtin_function_or_method",
    "instance",
    "_Feature"
   ],
   "varInspector_section_display": "none",
   "window_display": false
  }
 },
 "nbformat": 4,
 "nbformat_minor": 2
}
