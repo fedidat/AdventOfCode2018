{
 "cells": [
  {
   "cell_type": "markdown",
   "metadata": {},
   "source": [
    "[current dir](.)"
   ]
  },
  {
   "cell_type": "code",
   "execution_count": null,
   "metadata": {},
   "outputs": [],
   "source": [
    "# filename = 'inputs/Day23-example.txt'\n",
    "# filename = 'inputs/Day23-example2.txt'\n",
    "filename = 'inputs/Day23.txt'\n",
    "lines = open(filename).read().splitlines()\n",
    "print(len(lines), *lines[:5], sep='\\n')"
   ]
  },
  {
   "cell_type": "code",
   "execution_count": null,
   "metadata": {},
   "outputs": [],
   "source": [
    "import re\n",
    "\n",
    "bots = []\n",
    "for line in lines:\n",
    "    m = re.match('pos=<(-?\\d+),(-?\\d+),(-?\\d+)>, r=(\\d+)', line)\n",
    "    values = list(map(int, m.groups()))\n",
    "    bots.append({'pos': tuple(values[:3]), 'radius': values[3]})\n",
    "print(*bots[:5], sep='\\n')"
   ]
  },
  {
   "cell_type": "code",
   "execution_count": null,
   "metadata": {},
   "outputs": [],
   "source": [
    "def manhattan(p1, p2):\n",
    "    return sum(abs(x1 - x2) for (x1, x2) in zip(p1, p2))"
   ]
  },
  {
   "cell_type": "markdown",
   "metadata": {},
   "source": [
    "Part 1"
   ]
  },
  {
   "cell_type": "code",
   "execution_count": null,
   "metadata": {},
   "outputs": [],
   "source": [
    "def part1():\n",
    "    lrgrad = max(bots, key=lambda item: item['radius'])\n",
    "    matches = len([bot for bot in bots if manhattan(bot['pos'], lrgrad['pos']) <= lrgrad['radius']])\n",
    "    print(matches)\n",
    "\n",
    "part1()"
   ]
  },
  {
   "cell_type": "markdown",
   "metadata": {},
   "source": [
    "Part 2"
   ]
  },
  {
   "cell_type": "code",
   "execution_count": null,
   "metadata": {},
   "outputs": [],
   "source": [
    "from queue import PriorityQueue\n",
    "\n",
    "def part2():\n",
    "    q = PriorityQueue()\n",
    "    for bot in bots: #enqueue 1-D extremes for each bot\n",
    "        (point, radius) = bot['pos'], bot['radius']\n",
    "        dist = manhattan((0, 0, 0), point)\n",
    "        q.put((dist - radius, 1))\n",
    "        q.put((dist + radius, -1))\n",
    "        \n",
    "    count, maxCount = 0, 0\n",
    "    while not q.empty():\n",
    "        dist, e = q.get() # get closest remaining bot\n",
    "        count += e # add/subtract according to extremity\n",
    "        if count > maxCount: # keep max\n",
    "            maxDist, maxCount = dist, count\n",
    "    return maxDist\n",
    "\n",
    "part2()"
   ]
  }
 ],
 "metadata": {
  "kernelspec": {
   "display_name": "Python 3",
   "language": "python",
   "name": "python3"
  },
  "language_info": {
   "codemirror_mode": {
    "name": "ipython",
    "version": 3
   },
   "file_extension": ".py",
   "mimetype": "text/x-python",
   "name": "python",
   "nbconvert_exporter": "python",
   "pygments_lexer": "ipython3",
   "version": "3.7.0"
  },
  "varInspector": {
   "cols": {
    "lenName": 16,
    "lenType": 16,
    "lenVar": 40
   },
   "kernels_config": {
    "python": {
     "delete_cmd_postfix": "",
     "delete_cmd_prefix": "del ",
     "library": "var_list.py",
     "varRefreshCmd": "print(var_dic_list())"
    },
    "r": {
     "delete_cmd_postfix": ") ",
     "delete_cmd_prefix": "rm(",
     "library": "var_list.r",
     "varRefreshCmd": "cat(var_dic_list()) "
    }
   },
   "oldHeight": 247.85000000000002,
   "position": {
    "height": "40px",
    "left": "1760px",
    "right": "36px",
    "top": "119px",
    "width": "440px"
   },
   "types_to_exclude": [
    "module",
    "function",
    "builtin_function_or_method",
    "instance",
    "_Feature"
   ],
   "varInspector_section_display": "none",
   "window_display": false
  }
 },
 "nbformat": 4,
 "nbformat_minor": 2
}
