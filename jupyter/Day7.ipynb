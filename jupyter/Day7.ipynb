{
 "cells": [
  {
   "cell_type": "markdown",
   "metadata": {},
   "source": [
    "[current dir](.)"
   ]
  },
  {
   "cell_type": "code",
   "execution_count": 104,
   "metadata": {
    "ExecuteTime": {
     "end_time": "2018-12-08T18:51:56.145245Z",
     "start_time": "2018-12-08T18:51:56.134863Z"
    },
    "scrolled": true
   },
   "outputs": [
    {
     "name": "stdout",
     "output_type": "stream",
     "text": [
      "101\n",
      "('S', 'C')\n",
      "('C', 'R')\n",
      "('L', 'W')\n",
      "('V', 'B')\n",
      "('P', 'Y')\n"
     ]
    }
   ],
   "source": [
    "import re\n",
    "input = []\n",
    "with open('inputs/Day7.txt') as file:\n",
    "    inputlines = file.read().splitlines()\n",
    "\n",
    "for line in inputlines:\n",
    "    m = re.search('^Step (.) must be finished before step (.) can begin.', line)\n",
    "    input.append(m.groups())\n",
    "print(len(input), *input[:5], sep=\"\\n\")"
   ]
  },
  {
   "cell_type": "code",
   "execution_count": 101,
   "metadata": {},
   "outputs": [],
   "source": [
    "from collections import defaultdict\n",
    "def depends():\n",
    "    deps = defaultdict(list)\n",
    "    for (dep, part) in input:\n",
    "        if dep not in deps:\n",
    "            deps[dep] = []\n",
    "        deps[part].append(dep)\n",
    "    return deps"
   ]
  },
  {
   "cell_type": "markdown",
   "metadata": {},
   "source": [
    "Part 1"
   ]
  },
  {
   "cell_type": "code",
   "execution_count": 102,
   "metadata": {
    "ExecuteTime": {
     "end_time": "2018-12-08T18:50:22.805712Z",
     "start_time": "2018-12-08T18:50:22.784074Z"
    },
    "code_folding": [],
    "run_control": {
     "marked": false
    }
   },
   "outputs": [
    {
     "data": {
      "text/plain": [
       "'SCLPAMQVUWNHODRTGYKBJEFXZI'"
      ]
     },
     "execution_count": 102,
     "metadata": {},
     "output_type": "execute_result"
    }
   ],
   "source": [
    "def part1():\n",
    "    deps = depends()\n",
    "    res = \"\"\n",
    "    while len(deps) > 0:\n",
    "        next = min([part for (part, depends) in deps.items() if depends == []])\n",
    "        res += next\n",
    "        deps.pop(next, None)\n",
    "        for (part, dep) in deps.items():\n",
    "            if next in dep:\n",
    "                dep.remove(next)\n",
    "    return res\n",
    "        \n",
    "part1()"
   ]
  },
  {
   "cell_type": "markdown",
   "metadata": {},
   "source": [
    "Part 2"
   ]
  },
  {
   "cell_type": "code",
   "execution_count": 103,
   "metadata": {},
   "outputs": [
    {
     "data": {
      "text/plain": [
       "1234"
      ]
     },
     "execution_count": 103,
     "metadata": {},
     "output_type": "execute_result"
    }
   ],
   "source": [
    "import string\n",
    "\n",
    "def part2():    \n",
    "    deps = depends()\n",
    "    time, offset, workers_num = -1, 60, 5\n",
    "    workers = {num: ('.', 0) for num in range(1, workers_num+1)}\n",
    "    while len(deps) > 0:\n",
    "        time += 1\n",
    "        \n",
    "        #for each worker, if task is done, remove as dependency and update worker\n",
    "        for worker, (task, since) in workers.items():\n",
    "            if task != '.' and time - since == offset + string.ascii_uppercase.index(task) + 1:\n",
    "                for (part, dep) in deps.items():\n",
    "                    if task in dep:\n",
    "                        dep.remove(task)\n",
    "                deps.pop(task, None)\n",
    "                workers[worker] = ('.', 0)\n",
    "                \n",
    "        #allocate doable tasks\n",
    "        doable = [task for (task, depends) in deps.items() if depends == []]\n",
    "        allocated = [task for (task, since) in workers.values() if task != '.']\n",
    "        unallocated = sorted([task for task in doable if task not in allocated])\n",
    "        idleworkers = {k: v for k, v in workers.items() if v[0] == '.'}\n",
    "        for task, worker in zip(unallocated, idleworkers):\n",
    "            workers[worker] = (task, time)\n",
    "            \n",
    "    return time\n",
    "    \n",
    "part2()"
   ]
  }
 ],
 "metadata": {
  "kernelspec": {
   "display_name": "Python 3",
   "language": "python",
   "name": "python3"
  },
  "language_info": {
   "codemirror_mode": {
    "name": "ipython",
    "version": 3
   },
   "file_extension": ".py",
   "mimetype": "text/x-python",
   "name": "python",
   "nbconvert_exporter": "python",
   "pygments_lexer": "ipython3",
   "version": "3.7.0"
  },
  "varInspector": {
   "cols": {
    "lenName": 16,
    "lenType": 16,
    "lenVar": 40
   },
   "kernels_config": {
    "python": {
     "delete_cmd_postfix": "",
     "delete_cmd_prefix": "del ",
     "library": "var_list.py",
     "varRefreshCmd": "print(var_dic_list())"
    },
    "r": {
     "delete_cmd_postfix": ") ",
     "delete_cmd_prefix": "rm(",
     "library": "var_list.r",
     "varRefreshCmd": "cat(var_dic_list()) "
    }
   },
   "oldHeight": 247.85000000000002,
   "position": {
    "height": "40px",
    "left": "1760px",
    "right": "36px",
    "top": "119px",
    "width": "440px"
   },
   "types_to_exclude": [
    "module",
    "function",
    "builtin_function_or_method",
    "instance",
    "_Feature"
   ],
   "varInspector_section_display": "none",
   "window_display": false
  }
 },
 "nbformat": 4,
 "nbformat_minor": 2
}
