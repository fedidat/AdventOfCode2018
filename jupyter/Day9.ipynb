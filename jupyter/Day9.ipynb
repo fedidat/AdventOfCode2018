{
 "cells": [
  {
   "cell_type": "markdown",
   "metadata": {},
   "source": [
    "[current dir](.)"
   ]
  },
  {
   "cell_type": "code",
   "execution_count": null,
   "metadata": {
    "ExecuteTime": {
     "start_time": "2018-12-09T22:37:27.486Z"
    }
   },
   "outputs": [],
   "source": [
    "# players, lastMarble = 9, 25\n",
    "# players, lastMarble = 10, 1618\n",
    "# players, lastMarble = 13, 7999\n",
    "# players, lastMarble = 17, 1104\n",
    "# players, lastMarble = 21, 6111\n",
    "# players, lastMarble = 30, 5807\n",
    "players, lastMarble = 411, 72059\n",
    "\n",
    "print(players, \"players; last marble is worth\", lastMarble, \"points\")"
   ]
  },
  {
   "cell_type": "markdown",
   "metadata": {},
   "source": [
    "Part 1"
   ]
  },
  {
   "cell_type": "code",
   "execution_count": null,
   "metadata": {
    "ExecuteTime": {
     "start_time": "2018-12-09T22:37:12.082Z"
    },
    "code_folding": [],
    "run_control": {
     "marked": false
    }
   },
   "outputs": [],
   "source": [
    "def part1():\n",
    "    curPlayer, scores = 0, [0] * players\n",
    "    board, marbleIdx, highestMarble = [0], 0, 1\n",
    "    while highestMarble <= lastMarble:\n",
    "        if highestMarble % 23 == 0:\n",
    "            scores[curPlayer] += highestMarble\n",
    "            offset = 7 if marbleIdx > 7 else 6\n",
    "            scores[curPlayer] += board[(marbleIdx - offset) % len(board)]\n",
    "            del board[(marbleIdx - offset) % len(board)]\n",
    "            marbleIdx = (marbleIdx - offset) % len(board)\n",
    "        else: \n",
    "            board.insert((marbleIdx + 1) % len(board) + 1, highestMarble)\n",
    "            marbleIdx = board.index(highestMarble)\n",
    "        highestMarble += 1        \n",
    "        curPlayer = (curPlayer + 1) % players\n",
    "    print(max(scores))\n",
    "    \n",
    "part1()"
   ]
  },
  {
   "cell_type": "markdown",
   "metadata": {},
   "source": [
    "Part 2"
   ]
  },
  {
   "cell_type": "raw",
   "metadata": {},
   "source": [
    "For this part, due to the obvious sluggish implementation of part 1, I reworked the algorithm to use a different data structure: a circular doubly linked list.\n",
    "The performance improvement is very significant, and yet barely enough to counter the 100x larger number of rounds.\n",
    "The runtime for part 1 on my machine is 14.1s, compared to 9.27 for part 2."
   ]
  },
  {
   "cell_type": "code",
   "execution_count": null,
   "metadata": {
    "ExecuteTime": {
     "start_time": "2018-12-09T22:37:14.351Z"
    }
   },
   "outputs": [],
   "source": [
    "players, lastMarble = 411, 72059*100"
   ]
  },
  {
   "cell_type": "code",
   "execution_count": null,
   "metadata": {
    "ExecuteTime": {
     "start_time": "2018-12-09T22:37:15.225Z"
    }
   },
   "outputs": [],
   "source": [
    "class ListNode:\n",
    "    def __init__(self, val, prev = None, nxt = None):\n",
    "        self.val = val\n",
    "        self.prev = prev\n",
    "        self.nxt = nxt\n",
    "\n",
    "def part2():\n",
    "    curPlayer, scores, highestMarble = 0, [0] * players, 1 #setup\n",
    "    curNode = curNode.nxt = curNode.prev = ListNode(0) #root\n",
    "    while highestMarble <= lastMarble:\n",
    "        if highestMarble % 23 != 0: #normal marbles\n",
    "            curNode = curNode.nxt #go ahead, then create node and update refs\n",
    "            curNode.nxt = curNode = curNode.nxt.prev = ListNode(highestMarble, curNode, curNode.nxt)\n",
    "        else: \n",
    "            for _ in range(7): #go back 7 places\n",
    "                curNode = curNode.prev\n",
    "            scores[curPlayer] += highestMarble + curNode.val #update score\n",
    "            curNode.nxt.prev = curNode.prev #connect counter-clockwise\n",
    "            curNode = curNode.prev.nxt = curNode.nxt #connect clockwise and update current\n",
    "        highestMarble += 1\n",
    "        curPlayer = (curPlayer + 1) % players\n",
    "    print(max(scores))\n",
    "    \n",
    "part2()"
   ]
  }
 ],
 "metadata": {
  "kernelspec": {
   "display_name": "Python 3",
   "language": "python",
   "name": "python3"
  },
  "language_info": {
   "codemirror_mode": {
    "name": "ipython",
    "version": 3
   },
   "file_extension": ".py",
   "mimetype": "text/x-python",
   "name": "python",
   "nbconvert_exporter": "python",
   "pygments_lexer": "ipython3",
   "version": "3.7.0"
  },
  "varInspector": {
   "cols": {
    "lenName": 16,
    "lenType": 16,
    "lenVar": 40
   },
   "kernels_config": {
    "python": {
     "delete_cmd_postfix": "",
     "delete_cmd_prefix": "del ",
     "library": "var_list.py",
     "varRefreshCmd": "print(var_dic_list())"
    },
    "r": {
     "delete_cmd_postfix": ") ",
     "delete_cmd_prefix": "rm(",
     "library": "var_list.r",
     "varRefreshCmd": "cat(var_dic_list()) "
    }
   },
   "oldHeight": 247.85000000000002,
   "position": {
    "height": "40px",
    "left": "1760px",
    "right": "36px",
    "top": "119px",
    "width": "440px"
   },
   "types_to_exclude": [
    "module",
    "function",
    "builtin_function_or_method",
    "instance",
    "_Feature"
   ],
   "varInspector_section_display": "none",
   "window_display": false
  }
 },
 "nbformat": 4,
 "nbformat_minor": 2
}
