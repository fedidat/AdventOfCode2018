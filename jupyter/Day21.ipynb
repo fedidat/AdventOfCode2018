{
 "cells": [
  {
   "cell_type": "markdown",
   "metadata": {},
   "source": [
    "[current dir](.)"
   ]
  },
  {
   "cell_type": "code",
   "execution_count": 3,
   "metadata": {
    "ExecuteTime": {
     "start_time": "2018-12-09T22:37:27.486Z"
    }
   },
   "outputs": [
    {
     "name": "stdout",
     "output_type": "stream",
     "text": [
      "3\n",
      "31\n",
      "seti 123 0 5\n",
      "bani 5 456 5\n",
      "eqri 5 72 5\n",
      "addr 5 3 3\n",
      "seti 0 0 3\n",
      "seti 0 5 5\n",
      "bori 5 65536 2\n",
      "seti 10362650 3 5\n",
      "bani 2 255 4\n",
      "addr 5 4 5\n"
     ]
    }
   ],
   "source": [
    "filename = 'inputs/Day21.txt'\n",
    "lines = open(filename).read().splitlines()\n",
    "\n",
    "ipr = int(lines[0].split(' ')[-1])\n",
    "lines = lines[1:]\n",
    "print(ipr, len(lines), *lines[:10], sep='\\n')"
   ]
  },
  {
   "cell_type": "code",
   "execution_count": 4,
   "metadata": {},
   "outputs": [
    {
     "name": "stdout",
     "output_type": "stream",
     "text": [
      "3 [['seti', 123, 0, 5], ['bani', 5, 456, 5], ['eqri', 5, 72, 5], ['addr', 5, 3, 3], ['seti', 0, 0, 3], ['seti', 0, 5, 5], ['bori', 5, 65536, 2], ['seti', 10362650, 3, 5], ['bani', 2, 255, 4], ['addr', 5, 4, 5], ['bani', 5, 16777215, 5], ['muli', 5, 65899, 5], ['bani', 5, 16777215, 5], ['gtir', 256, 2, 4], ['addr', 4, 3, 3], ['addi', 3, 1, 3], ['seti', 27, 4, 3], ['seti', 0, 3, 4], ['addi', 4, 1, 1], ['muli', 1, 256, 1], ['gtrr', 1, 2, 1], ['addr', 1, 3, 3], ['addi', 3, 1, 3], ['seti', 25, 2, 3], ['addi', 4, 1, 4], ['seti', 17, 7, 3], ['setr', 4, 0, 2], ['seti', 7, 8, 3], ['eqrr', 5, 0, 4], ['addr', 4, 3, 3], ['seti', 5, 1, 3]]\n"
     ]
    }
   ],
   "source": [
    "import re\n",
    "\n",
    "inst = []\n",
    "for line in lines:\n",
    "    m = re.match('(\\w+) (\\d+) (\\d+) (\\d+)', line)\n",
    "    res = m.groups()\n",
    "    inst.append([res[0]] + list(map(int, res[1:])))\n",
    "print(ipr, inst)"
   ]
  },
  {
   "cell_type": "code",
   "execution_count": 5,
   "metadata": {},
   "outputs": [],
   "source": [
    "iset = {\n",
    "    'addr': lambda registers, a, b: registers[a] + registers[b], \n",
    "    'addi': lambda registers, a, b: registers[a] + b,\n",
    "    'mulr': lambda registers, a, b: registers[a] * registers[b], \n",
    "    'muli': lambda registers, a, b: registers[a] * b,\n",
    "    'banr': lambda registers, a, b: registers[a] & registers[b], \n",
    "    'bani': lambda registers, a, b: registers[a] & b,\n",
    "    'borr': lambda registers, a, b: registers[a] | registers[b], \n",
    "    'bori': lambda registers, a, b: registers[a] | b,\n",
    "    'setr': lambda registers, a, b: registers[a], \n",
    "    'seti': lambda registers, a, b: a,\n",
    "    'gtir': lambda registers, a, b: int(a > registers[b]), \n",
    "    'gtri': lambda registers, a, b: int(registers[a] > b), \n",
    "    'gtrr': lambda registers, a, b: int(registers[a] > registers[b]),\n",
    "    'eqir': lambda registers, a, b: int(a == registers[b]), \n",
    "    'eqri': lambda registers, a, b: int(registers[a] == b), \n",
    "    'eqrr': lambda registers, a, b: int(registers[a] == registers[b])\n",
    "}"
   ]
  },
  {
   "cell_type": "markdown",
   "metadata": {},
   "source": [
    "Part 1"
   ]
  },
  {
   "cell_type": "code",
   "execution_count": 6,
   "metadata": {},
   "outputs": [
    {
     "data": {
      "text/plain": [
       "6778585"
      ]
     },
     "execution_count": 6,
     "metadata": {},
     "output_type": "execute_result"
    }
   ],
   "source": [
    "def part1():\n",
    "    ipi, registers = 0, [0] * 6\n",
    "    for c in range(10000000):\n",
    "        if ipi >= len(inst):\n",
    "            break\n",
    "        registers[ipr] = ipi\n",
    "        \n",
    "        # Print registers[5] on instruction 28, since instruction 29 exits if r0==r5 here\n",
    "        if ipi == 28:\n",
    "            return registers[5]\n",
    "            \n",
    "        l = inst[ipi]\n",
    "        registers[l[3]] = iset[l[0]](registers, l[1], l[2])\n",
    "        ipi = registers[ipr] + 1\n",
    "    \n",
    "part1()"
   ]
  },
  {
   "cell_type": "markdown",
   "metadata": {},
   "source": [
    "Part 2"
   ]
  },
  {
   "cell_type": "code",
   "execution_count": 7,
   "metadata": {},
   "outputs": [
    {
     "data": {
      "text/plain": [
       "6534225"
      ]
     },
     "execution_count": 7,
     "metadata": {},
     "output_type": "execute_result"
    }
   ],
   "source": [
    "def part2():\n",
    "    seen = []\n",
    "    ipi, registers = 0, [0] * 6\n",
    "    for c in range(10000000):\n",
    "        if ipi >= len(inst):\n",
    "            break\n",
    "        registers[ipr] = ipi\n",
    "        \n",
    "        # Examining the registers reveals that the inner loop translates to\n",
    "        #    while r1 < r2:\n",
    "        #        r1 = r4 + 1\n",
    "        #        r1 *= 256\n",
    "        #        r4++\n",
    "        # Therefore, an efficient optimization is, instead of doing the incrementing,\n",
    "        # to directly set r1 to r2 and calculate r4 back from there.\n",
    "        # I reverse-engineered the whole thing, but this is sufficient optimization.\n",
    "        if ipi == 20 and registers[4] == 2:\n",
    "            registers[1] = registers[2]\n",
    "            registers[4] = int(registers[1] / 256)-1\n",
    "            \n",
    "        # Print the repeating value that could exit if it were r0\n",
    "        if ipi == 28:\n",
    "            if registers[5] in seen:\n",
    "                return seen[-1]\n",
    "            seen.append(registers[5])\n",
    "            \n",
    "        l = inst[ipi]\n",
    "        registers[l[3]] = iset[l[0]](registers, l[1], l[2])\n",
    "        ipi = registers[ipr] + 1\n",
    "    \n",
    "part2()"
   ]
  }
 ],
 "metadata": {
  "kernelspec": {
   "display_name": "Python 3",
   "language": "python",
   "name": "python3"
  },
  "language_info": {
   "codemirror_mode": {
    "name": "ipython",
    "version": 3
   },
   "file_extension": ".py",
   "mimetype": "text/x-python",
   "name": "python",
   "nbconvert_exporter": "python",
   "pygments_lexer": "ipython3",
   "version": "3.7.0"
  },
  "varInspector": {
   "cols": {
    "lenName": 16,
    "lenType": 16,
    "lenVar": 40
   },
   "kernels_config": {
    "python": {
     "delete_cmd_postfix": "",
     "delete_cmd_prefix": "del ",
     "library": "var_list.py",
     "varRefreshCmd": "print(var_dic_list())"
    },
    "r": {
     "delete_cmd_postfix": ") ",
     "delete_cmd_prefix": "rm(",
     "library": "var_list.r",
     "varRefreshCmd": "cat(var_dic_list()) "
    }
   },
   "oldHeight": 247.85000000000002,
   "position": {
    "height": "40px",
    "left": "1760px",
    "right": "36px",
    "top": "119px",
    "width": "440px"
   },
   "types_to_exclude": [
    "module",
    "function",
    "builtin_function_or_method",
    "instance",
    "_Feature"
   ],
   "varInspector_section_display": "none",
   "window_display": false
  }
 },
 "nbformat": 4,
 "nbformat_minor": 2
}
