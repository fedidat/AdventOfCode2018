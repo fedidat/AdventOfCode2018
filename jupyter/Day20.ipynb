{
 "cells": [
  {
   "cell_type": "markdown",
   "metadata": {},
   "source": [
    "[current dir](.)"
   ]
  },
  {
   "cell_type": "code",
   "execution_count": 70,
   "metadata": {
    "ExecuteTime": {
     "start_time": "2018-12-09T22:37:27.486Z"
    }
   },
   "outputs": [
    {
     "name": "stdout",
     "output_type": "stream",
     "text": [
      "^WWWWWWWNNEES(W|EEENNWSWNWNNEEES(EESSW(SEEEEEENWNNWWNENWNWSS(WNNWNNENNWNEEEEENENWNENWWWSESWS(E|WWNNE\n"
     ]
    }
   ],
   "source": [
    "# filename = 'inputs/Day20-example.txt'\n",
    "filename = 'inputs/Day20.txt'\n",
    "regex = open(filename).read()\n",
    "print(regex[:100])"
   ]
  },
  {
   "cell_type": "code",
   "execution_count": 71,
   "metadata": {},
   "outputs": [],
   "source": [
    "from collections import defaultdict\n",
    "import sys\n",
    "\n",
    "distances = defaultdict(lambda: sys.maxsize)\n",
    "pos = distances[0] = 0\n",
    "lastStarts = []\n",
    "for char in regex[1:-1]:\n",
    "    if char == \"(\": # new fork, store its starting point\n",
    "        lastStarts.append(pos)\n",
    "    elif char == \")\": # end of fork, come back to last starting point\n",
    "        pos = lastStarts.pop()\n",
    "    elif char == \"|\": # next path in fork, reset to current starting point\n",
    "        pos = lastStarts[-1]\n",
    "    else: # new room\n",
    "        prev, pos = pos, pos + {\"S\": 1j, \"N\": -1j, \"E\": 1, \"W\": -1}[char] # store point before the door and go through the door\n",
    "        distances[pos] = min(distances[pos], distances[prev] + 1) # least dist to the room is min of existing and prev room + 1"
   ]
  },
  {
   "cell_type": "markdown",
   "metadata": {},
   "source": [
    "Part 1"
   ]
  },
  {
   "cell_type": "code",
   "execution_count": 72,
   "metadata": {},
   "outputs": [
    {
     "data": {
      "text/plain": [
       "3699"
      ]
     },
     "execution_count": 72,
     "metadata": {},
     "output_type": "execute_result"
    }
   ],
   "source": [
    "max(distances.values())"
   ]
  },
  {
   "cell_type": "markdown",
   "metadata": {},
   "source": [
    "Part 2"
   ]
  },
  {
   "cell_type": "code",
   "execution_count": 73,
   "metadata": {},
   "outputs": [
    {
     "data": {
      "text/plain": [
       "8517"
      ]
     },
     "execution_count": 73,
     "metadata": {},
     "output_type": "execute_result"
    }
   ],
   "source": [
    "len([x for x in distances.values() if x >= 1000])"
   ]
  }
 ],
 "metadata": {
  "kernelspec": {
   "display_name": "Python 3",
   "language": "python",
   "name": "python3"
  },
  "language_info": {
   "codemirror_mode": {
    "name": "ipython",
    "version": 3
   },
   "file_extension": ".py",
   "mimetype": "text/x-python",
   "name": "python",
   "nbconvert_exporter": "python",
   "pygments_lexer": "ipython3",
   "version": "3.7.0"
  },
  "varInspector": {
   "cols": {
    "lenName": 16,
    "lenType": 16,
    "lenVar": 40
   },
   "kernels_config": {
    "python": {
     "delete_cmd_postfix": "",
     "delete_cmd_prefix": "del ",
     "library": "var_list.py",
     "varRefreshCmd": "print(var_dic_list())"
    },
    "r": {
     "delete_cmd_postfix": ") ",
     "delete_cmd_prefix": "rm(",
     "library": "var_list.r",
     "varRefreshCmd": "cat(var_dic_list()) "
    }
   },
   "oldHeight": 247.85000000000002,
   "position": {
    "height": "40px",
    "left": "1760px",
    "right": "36px",
    "top": "119px",
    "width": "440px"
   },
   "types_to_exclude": [
    "module",
    "function",
    "builtin_function_or_method",
    "instance",
    "_Feature"
   ],
   "varInspector_section_display": "none",
   "window_display": false
  }
 },
 "nbformat": 4,
 "nbformat_minor": 2
}
