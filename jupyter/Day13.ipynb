{
 "cells": [
  {
   "cell_type": "markdown",
   "metadata": {},
   "source": [
    "[current dir](.)"
   ]
  },
  {
   "cell_type": "code",
   "execution_count": 336,
   "metadata": {
    "ExecuteTime": {
     "start_time": "2018-12-09T22:37:27.486Z"
    }
   },
   "outputs": [],
   "source": [
    "# with open('inputs/Day13-example.txt') as file:\n",
    "# with open('inputs/Day13-example2.txt') as file:\n",
    "with open('inputs/Day13.txt') as file:\n",
    "    input = [list(line) for line in file.read().splitlines()]"
   ]
  },
  {
   "cell_type": "code",
   "execution_count": 413,
   "metadata": {},
   "outputs": [],
   "source": [
    "from copy import copy\n",
    "\n",
    "normalDir = {\n",
    "    'left':     {'>': (0, -1), '<': (0, 1),  'v': (1, 0),  '^': (-1, 0)},\n",
    "    'straight': {'>': (1, 0),  '<': (-1, 0), 'v': (0, 1), '^': (0, -1)},\n",
    "    'right':    {'>': (0, 1),  '<': (0, -1), 'v': (-1, 0), '^': (1, 0)}\n",
    "}\n",
    "symbConv = {\n",
    "    'left':     {'>': '^',  '^': '<', '<': 'v', 'v': '>'},\n",
    "    'straight': {'>': '>',  '^': '^', '<': '<', 'v': 'v'},\n",
    "    'right':    {'>': 'v',  '^': '>', '<': '^', 'v': '<'},\n",
    "    '\\\\': {'>': 'v',  '^': '<', '<': '^', 'v': '>'},\n",
    "    '/': {'>': '^',  '^': '>', '<': 'v', 'v': '<'},\n",
    "    '|': {'^': '^', 'v': 'v'},\n",
    "    '-': {'>': '>', '<': '<'}\n",
    "}\n",
    "rotations = ['left', 'straight', 'right']\n",
    "symL, symC, symI = ['|', '-'], ['\\\\', '/'], ['+']\n",
    "symLI, symLC, symCI, symLCI = symL + symI, symL + symC, symC + symI, symLC + symI\n",
    "connVer = symCI + ['|']\n",
    "connHor = symCI + ['-']\n",
    "\n",
    "def printboard(b):\n",
    "    print(*[''.join(line) for line in b], sep=\"\\n\")\n",
    "    \n",
    "def extract():\n",
    "    carts = []\n",
    "    board = [copy(r) for r in input]\n",
    "    board.append([\" \" for _ in range(len(board[0]))])\n",
    "    for y, row in enumerate(board):\n",
    "        board[y].append(\" \")\n",
    "        for x, direction in enumerate(row):\n",
    "            if direction in ['>', '<', 'v', '^']:\n",
    "                carts.append((direction, x, y, 0))\n",
    "                if (board[y-1][x] in connVer and board[y+1][x] in connVer \n",
    "                        and board[y][x-1] in connHor and board[y][x+1] in connHor):\n",
    "                    board[y][x] = '+'\n",
    "                elif ((board[y-1][x] in connVer and board[y][x-1] in connHor)\n",
    "                         or (board[y+1][x] in connVer and board[y][x+1] in connHor)):\n",
    "                    board[y][x] = '/'\n",
    "                elif ((board[y-1][x] in connVer and board[y][x+1] in connHor)\n",
    "                         or (board[y+1][x] in connVer and board[y][x-1] in connHor)):\n",
    "                    board[y][x] = '\\\\'\n",
    "                elif board[y-1][x] in connVer and board[y+1][x] in connVer:\n",
    "                    board[y][x] = '|'\n",
    "                elif board[y][x-1] in connHor and board[y][x+1] in connHor:\n",
    "                    board[y][x] = '-'\n",
    "    print(len(carts), \"carts\", \"\\n\")\n",
    "    return carts, board\n",
    "    \n",
    "def printwithcarts():\n",
    "    withcarts = [copy(r) for r in board]\n",
    "    for idx, (symbol, x, y, turns) in enumerate(carts):\n",
    "        withcarts[y][x] = symbol\n",
    "    printboard(withcarts)"
   ]
  },
  {
   "cell_type": "markdown",
   "metadata": {},
   "source": [
    "Part 1"
   ]
  },
  {
   "cell_type": "code",
   "execution_count": 411,
   "metadata": {
    "ExecuteTime": {
     "start_time": "2018-12-09T22:37:12.082Z"
    },
    "code_folding": [],
    "run_control": {
     "marked": false
    }
   },
   "outputs": [
    {
     "name": "stdout",
     "output_type": "stream",
     "text": [
      "17 carts \n",
      "\n"
     ]
    },
    {
     "data": {
      "text/plain": [
       "(164, 102, 114)"
      ]
     },
     "execution_count": 411,
     "metadata": {},
     "output_type": "execute_result"
    }
   ],
   "source": [
    "def part1():\n",
    "    carts, board = extract()\n",
    "    for tick in range(1000):            \n",
    "        for idx, (direction, x, y, turns) in enumerate(carts):\n",
    "            if any(ax == x and ay == y for idx2, (_, ax, ay, _) in enumerate(carts) if idx != idx2):\n",
    "                return tick, x, y\n",
    "            olddir = direction\n",
    "            if board[y][x] == '+':\n",
    "                rotation = rotations[turns]\n",
    "                direction = symbConv[rotation][direction]\n",
    "                turns = (turns + 1) % 3\n",
    "            else:\n",
    "                olddir = direction = symbConv[board[y][x]][direction]\n",
    "                olddir = direction\n",
    "                rotation = 'straight'\n",
    "            (x, y) = [x + y for x, y in zip((x, y), normalDir[rotation][olddir])]\n",
    "            carts[idx] = (direction, x, y, turns)\n",
    "            \n",
    "part1()"
   ]
  },
  {
   "cell_type": "markdown",
   "metadata": {},
   "source": [
    "Part 2"
   ]
  },
  {
   "cell_type": "markdown",
   "metadata": {},
   "source": [
    "This took me way too long to solve.\n",
    "The author of the challenge did not mention that in such a situation ->>-, \n",
    "a crash does occur. This does not seem intuitive to me. And it computed the crash\n",
    "by looking at the carts in increasing order of x, y.\n",
    "So, in order to do efficient checks, I checked for collisions after each tick. This\n",
    "should be fine. But because of this technicality I needed to check for collisions\n",
    "within the inner cart loop, and only after ordering the cart list alphabetically.\n",
    "\n",
    "This kind of omitted technicality should not occur in a good problem."
   ]
  },
  {
   "cell_type": "code",
   "execution_count": 412,
   "metadata": {
    "ExecuteTime": {
     "start_time": "2018-12-09T22:37:15.225Z"
    }
   },
   "outputs": [
    {
     "name": "stdout",
     "output_type": "stream",
     "text": [
      "17 carts \n",
      "\n"
     ]
    },
    {
     "data": {
      "text/plain": [
       "(146, 87)"
      ]
     },
     "execution_count": 412,
     "metadata": {},
     "output_type": "execute_result"
    }
   ],
   "source": [
    "def part2():\n",
    "    carts, board = extract()\n",
    "    for tick in range(100000):            \n",
    "        removed = []\n",
    "        carts.sort(key=lambda x: x[1])\n",
    "        carts.sort(key=lambda x: x[2])\n",
    "        \n",
    "        for idx, (direction, x, y, turns) in enumerate(carts):\n",
    "            for idx2, (_, ax, ay, _) in enumerate(carts):\n",
    "                if idx != idx2 and ax == x and ay == y:\n",
    "                    removed.append(idx)\n",
    "                    removed.append(idx2)\n",
    "            olddir = direction\n",
    "            if board[y][x] == '+':\n",
    "                rotation = rotations[turns]\n",
    "                direction = symbConv[rotation][direction]\n",
    "                turns = (turns + 1) % 3\n",
    "            else:\n",
    "                olddir = direction = symbConv[board[y][x]][direction]\n",
    "                olddir = direction\n",
    "                rotation = 'straight'\n",
    "            (x, y) = [x + y for x, y in zip((x, y), normalDir[rotation][olddir])]\n",
    "            carts[idx] = (direction, x, y, turns)\n",
    "        \n",
    "        carts = [cart for index, cart in enumerate(carts) if index not in removed]\n",
    "        if len(carts) == 1:\n",
    "            return x, y\n",
    "            \n",
    "part2()"
   ]
  }
 ],
 "metadata": {
  "kernelspec": {
   "display_name": "Python 3",
   "language": "python",
   "name": "python3"
  },
  "language_info": {
   "codemirror_mode": {
    "name": "ipython",
    "version": 3
   },
   "file_extension": ".py",
   "mimetype": "text/x-python",
   "name": "python",
   "nbconvert_exporter": "python",
   "pygments_lexer": "ipython3",
   "version": "3.7.0"
  },
  "varInspector": {
   "cols": {
    "lenName": 16,
    "lenType": 16,
    "lenVar": 40
   },
   "kernels_config": {
    "python": {
     "delete_cmd_postfix": "",
     "delete_cmd_prefix": "del ",
     "library": "var_list.py",
     "varRefreshCmd": "print(var_dic_list())"
    },
    "r": {
     "delete_cmd_postfix": ") ",
     "delete_cmd_prefix": "rm(",
     "library": "var_list.r",
     "varRefreshCmd": "cat(var_dic_list()) "
    }
   },
   "oldHeight": 247.85000000000002,
   "position": {
    "height": "40px",
    "left": "1760px",
    "right": "36px",
    "top": "119px",
    "width": "440px"
   },
   "types_to_exclude": [
    "module",
    "function",
    "builtin_function_or_method",
    "instance",
    "_Feature"
   ],
   "varInspector_section_display": "none",
   "window_display": false
  }
 },
 "nbformat": 4,
 "nbformat_minor": 2
}
