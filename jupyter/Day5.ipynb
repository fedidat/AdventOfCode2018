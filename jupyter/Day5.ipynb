{
 "cells": [
  {
   "cell_type": "markdown",
   "metadata": {},
   "source": [
    "[current dir](.)"
   ]
  },
  {
   "cell_type": "code",
   "execution_count": 1,
   "metadata": {
    "scrolled": true
   },
   "outputs": [
    {
     "name": "stdout",
     "output_type": "stream",
     "text": [
      "['x', 'X', 'w', 'I', 'i', 'S', 's', 'j', 'J', 'W', 'n', 'Q', 'q', 'N', 'k', 'S', 's', 'm', 'M', 'K', 'k', 'K', 'y', 'Y', 'X', 'x', 'm', 'R', 'L', 'l', 'r', 'l', 'C', 'c', 'J', 'j', 'L', 'b', 'B', 'x', 'n', 'N', 'e', 'T', 't', 'P', 'p', 'T', 'M', 'm']\n",
      "50000\n"
     ]
    }
   ],
   "source": [
    "with open('inputs/Day5.txt') as file:\n",
    "    input = list(file.read().rstrip('\\n'))\n",
    "print(input[:50])\n",
    "print(len(input))"
   ]
  },
  {
   "cell_type": "markdown",
   "metadata": {},
   "source": [
    "Part 1"
   ]
  },
  {
   "cell_type": "code",
   "execution_count": 2,
   "metadata": {},
   "outputs": [],
   "source": [
    "def trim(p):\n",
    "    i = 0\n",
    "    while i < len(p) - 1:\n",
    "        if p[i] != p[i+1] and (p[i] == p[i+1].upper() or p[i].upper() == p[i+1]):\n",
    "            del p[i:i+2]\n",
    "            if i > 0:\n",
    "                i -= 1\n",
    "        else:\n",
    "            i += 1\n",
    "    return p"
   ]
  },
  {
   "cell_type": "code",
   "execution_count": 3,
   "metadata": {},
   "outputs": [
    {
     "data": {
      "text/plain": [
       "11118"
      ]
     },
     "execution_count": 3,
     "metadata": {},
     "output_type": "execute_result"
    }
   ],
   "source": [
    "def part1():\n",
    "    return len(trim(input))\n",
    "    \n",
    "part1()"
   ]
  },
  {
   "cell_type": "markdown",
   "metadata": {},
   "source": [
    "Part 2"
   ]
  },
  {
   "cell_type": "code",
   "execution_count": 4,
   "metadata": {},
   "outputs": [],
   "source": [
    "def remElement(p, element):\n",
    "    return list(filter(lambda x: x != element and x != element.upper(), p))"
   ]
  },
  {
   "cell_type": "code",
   "execution_count": 5,
   "metadata": {},
   "outputs": [
    {
     "data": {
      "text/plain": [
       "6948"
      ]
     },
     "execution_count": 5,
     "metadata": {},
     "output_type": "execute_result"
    }
   ],
   "source": [
    "def part2():\n",
    "    import string\n",
    "    return min([len(trim(remElement(input, c))) for c in string.ascii_lowercase])\n",
    "\n",
    "part2()"
   ]
  }
 ],
 "metadata": {
  "kernelspec": {
   "display_name": "Python 3",
   "language": "python",
   "name": "python3"
  },
  "language_info": {
   "codemirror_mode": {
    "name": "ipython",
    "version": 3
   },
   "file_extension": ".py",
   "mimetype": "text/x-python",
   "name": "python",
   "nbconvert_exporter": "python",
   "pygments_lexer": "ipython3",
   "version": "3.7.0"
  }
 },
 "nbformat": 4,
 "nbformat_minor": 2
}
