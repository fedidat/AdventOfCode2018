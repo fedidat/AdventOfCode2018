{
 "cells": [
  {
   "cell_type": "markdown",
   "metadata": {},
   "source": [
    "[current dir](.)"
   ]
  },
  {
   "cell_type": "code",
   "execution_count": 1,
   "metadata": {
    "ExecuteTime": {
     "start_time": "2018-12-09T22:37:27.486Z"
    }
   },
   "outputs": [
    {
     "name": "stdout",
     "output_type": "stream",
     "text": [
      "50\n",
      "..|#..#......#|.#..#|#.|##|.|.##.||..|.||....###|.\n",
      "||.|....|#.#|.#...#.|...|#.#.#.#....#......#....#.\n",
      "...#...|.....#.#..|#...||..#.|.|#....#|#|..##...|.\n",
      ".....#....|#.|..|.....#|##...#.#.#||....||||....#.\n",
      "..###...#.||.|||.##.#.|....|.##.#....|.#.|..|.....\n",
      "....|..#.#.|...|..|.....#....#.#.......|.||...|...\n",
      "#..|.....##|..#..#...#..|.##.....#......||##|.|#..\n",
      "##........#...|#|.##.#|#..#|...#...#.##|||.#||..||\n",
      "......#..|..|.#...|#||.#....#.#.|#.||......|.....|\n",
      ".|...|.##....#.||...|..|..|.|........#.#..|||..|##\n"
     ]
    }
   ],
   "source": [
    "# filename = 'inputs/Day18-example.txt'\n",
    "filename = 'inputs/Day18.txt'\n",
    "lines = open(filename).read().splitlines()\n",
    "\n",
    "print(len(lines), *lines[:10], sep='\\n')"
   ]
  },
  {
   "cell_type": "markdown",
   "metadata": {},
   "source": [
    "Part 1"
   ]
  },
  {
   "cell_type": "code",
   "execution_count": 4,
   "metadata": {},
   "outputs": [
    {
     "name": "stdout",
     "output_type": "stream",
     "text": [
      "394420\n"
     ]
    }
   ],
   "source": [
    "def part1(lines):\n",
    "    rounds = 10\n",
    "    d = len(lines)\n",
    "    for r in range(rounds):\n",
    "        copy = [[c for c in l] for l in lines]\n",
    "        for y, l in enumerate(lines):\n",
    "            for x, c in enumerate(l):\n",
    "                adjp = [lines[ay][ax] for ax in range(x-1, x+2) for ay in range(y-1, y+2) \n",
    "                        if ax >= 0 and ax < d and ay >= 0 and ay < d and (ax, ay) != (x, y)]\n",
    "                adj = {res: sum([adj == res for adj in adjp]) for res in '.#|'}\n",
    "                if c == '.' and adj['|'] >= 3:\n",
    "                        copy[y][x] = '|'\n",
    "                elif c == '|' and adj['#'] >= 3:\n",
    "                        copy[y][x] = '#'\n",
    "                elif c == '#' and adj['|'] < 1 or adj['#'] < 1:\n",
    "                        copy[y][x] = '.'\n",
    "        lines = copy\n",
    "    from functools import reduce     \n",
    "    print(reduce(lambda a,b: a*b, [sum([c == res for l in lines for c in l]) for res in '#|']))\n",
    "\n",
    "part1(lines)"
   ]
  },
  {
   "cell_type": "markdown",
   "metadata": {},
   "source": [
    "Part 2"
   ]
  },
  {
   "cell_type": "code",
   "execution_count": 14,
   "metadata": {},
   "outputs": [
    {
     "name": "stdout",
     "output_type": "stream",
     "text": [
      "174420\n"
     ]
    }
   ],
   "source": [
    "from functools import reduce  \n",
    "\n",
    "def part2(lines):\n",
    "    d = len(lines)\n",
    "    rounds = 1000000000\n",
    "    seen = {}\n",
    "    for r in range(rounds):\n",
    "        copy = [[c for c in l] for l in lines]\n",
    "        for y, l in enumerate(lines):\n",
    "            for x, c in enumerate(l):\n",
    "                adjp = [lines[ay][ax] for ax in range(x-1, x+2) for ay in range(y-1, y+2) \n",
    "                        if ax >= 0 and ax < d and ay >= 0 and ay < d and (ax, ay) != (x, y)]\n",
    "                adj = {res: sum([adj == res for adj in adjp]) for res in '.#|'}\n",
    "                if c == '.' and adj['|'] >= 3:\n",
    "                        copy[y][x] = '|'\n",
    "                elif c == '|' and adj['#'] >= 3:\n",
    "                        copy[y][x] = '#'\n",
    "                elif c == '#' and (adj['|'] < 1 or adj['#'] < 1):\n",
    "                        copy[y][x] = '.'\n",
    "        lines = copy\n",
    "        \n",
    "        value = reduce(lambda a,b: a*b, [sum([c == res for l in lines for c in l]) for res in '#|'])\n",
    "        if copy in seen.values():\n",
    "            seenkey = [k for (k, v) in seen.items() if v == copy][0]\n",
    "            seenmap = seen[(rounds-seenkey)%(r - seenkey) + seenkey - 1]\n",
    "            print(reduce(lambda a,b: a*b, [sum([c == res for l in seenmap for c in l]) for res in '#|']))\n",
    "            return\n",
    "        seen[r] = [[c for c in l] for l in lines]\n",
    "\n",
    "part2(lines)"
   ]
  }
 ],
 "metadata": {
  "kernelspec": {
   "display_name": "Python 3",
   "language": "python",
   "name": "python3"
  },
  "language_info": {
   "codemirror_mode": {
    "name": "ipython",
    "version": 3
   },
   "file_extension": ".py",
   "mimetype": "text/x-python",
   "name": "python",
   "nbconvert_exporter": "python",
   "pygments_lexer": "ipython3",
   "version": "3.7.0"
  },
  "varInspector": {
   "cols": {
    "lenName": 16,
    "lenType": 16,
    "lenVar": 40
   },
   "kernels_config": {
    "python": {
     "delete_cmd_postfix": "",
     "delete_cmd_prefix": "del ",
     "library": "var_list.py",
     "varRefreshCmd": "print(var_dic_list())"
    },
    "r": {
     "delete_cmd_postfix": ") ",
     "delete_cmd_prefix": "rm(",
     "library": "var_list.r",
     "varRefreshCmd": "cat(var_dic_list()) "
    }
   },
   "oldHeight": 247.85000000000002,
   "position": {
    "height": "40px",
    "left": "1760px",
    "right": "36px",
    "top": "119px",
    "width": "440px"
   },
   "types_to_exclude": [
    "module",
    "function",
    "builtin_function_or_method",
    "instance",
    "_Feature"
   ],
   "varInspector_section_display": "none",
   "window_display": false
  }
 },
 "nbformat": 4,
 "nbformat_minor": 2
}
