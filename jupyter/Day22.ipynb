{
 "cells": [
  {
   "cell_type": "markdown",
   "metadata": {},
   "source": [
    "[current dir](.)"
   ]
  },
  {
   "cell_type": "code",
   "execution_count": null,
   "metadata": {},
   "outputs": [],
   "source": [
    "# depth, target= 510, (10,10)\n",
    "depth, target= 10647, (7,770)\n",
    "xgeof = 16807\n",
    "ygeof = 48271\n",
    "erosf = 20183"
   ]
  },
  {
   "cell_type": "code",
   "execution_count": null,
   "metadata": {},
   "outputs": [],
   "source": [
    "targetX, targetY = target\n",
    "erosions = {(0,0):0, (targetX, targetY):0}\n",
    "regionRisks = {}\n",
    "\n",
    "def getErosion(x, y):\n",
    "    if (x,y) in erosions.keys():\n",
    "        return erosions[(x, y)]\n",
    "    if y == 0:\n",
    "        geoI = x * xgeof\n",
    "    elif x == 0:\n",
    "        geoI = y * ygeof\n",
    "    else:\n",
    "        geoI = getErosion(x-1, y) * getErosion(x, y-1)\n",
    "    erosion = (geoI + depth) % erosf\n",
    "    erosions[(x, y)] = erosion\n",
    "    return erosion\n",
    "\n",
    "def getRegionRisk(x, y):\n",
    "    return getErosion(x, y) % 3"
   ]
  },
  {
   "cell_type": "markdown",
   "metadata": {},
   "source": [
    "Part 1"
   ]
  },
  {
   "cell_type": "code",
   "execution_count": null,
   "metadata": {},
   "outputs": [],
   "source": [
    "def part1():\n",
    "    return sum(getRegionRisk(x, y) for x in range(targetX+1) for y in range(targetY+1))\n",
    "    \n",
    "part1()"
   ]
  },
  {
   "cell_type": "markdown",
   "metadata": {},
   "source": [
    "Part 2"
   ]
  },
  {
   "cell_type": "code",
   "execution_count": null,
   "metadata": {},
   "outputs": [],
   "source": [
    "def part2():\n",
    "    #Use a min heap\n",
    "    from heapq import heappush, heappop\n",
    "    queue = [(0, 0, 0, 1)] # ((x,y), time to (x,y), area risk to switch equipment to)\n",
    "    besttimes = {} # (x, y, area risk to switch equipment to) : best time to (x,y)\n",
    "\n",
    "    while queue:\n",
    "        time, x, y, needswitch = heappop(queue)\n",
    "        key = (x, y, needswitch)\n",
    "\n",
    "        if key == (targetX, targetY, 1): # reached target with the right equipment\n",
    "            break\n",
    "        if key in besttimes and besttimes[key] <= time: # skip paths with worse times\n",
    "            continue\n",
    "        \n",
    "        # note best time so far and explore neighbors\n",
    "        besttimes[key] = time\n",
    "        for dx, dy in [[-1, 0], [1, 0], [0, -1], [0, 1]]:\n",
    "            nextX, nextY = x + dx, y + dy\n",
    "            if nextX < 0 or nextY < 0:\n",
    "                continue # off limits\n",
    "            if getRegionRisk(nextX, nextY) == needswitch:\n",
    "                continue # will be dealt with further\n",
    "            for i in range(3):\n",
    "                if getRegionRisk(nextX, nextY) == i:\n",
    "                    heappush(queue, (time + 8, nextX, nextY, i)) # with switch\n",
    "                else:\n",
    "                    heappush(queue, (time + 1, nextX, nextY, needswitch)) # no switch\n",
    "    return time\n",
    "    \n",
    "part2()"
   ]
  }
 ],
 "metadata": {
  "kernelspec": {
   "display_name": "Python 3",
   "language": "python",
   "name": "python3"
  },
  "language_info": {
   "codemirror_mode": {
    "name": "ipython",
    "version": 3
   },
   "file_extension": ".py",
   "mimetype": "text/x-python",
   "name": "python",
   "nbconvert_exporter": "python",
   "pygments_lexer": "ipython3",
   "version": "3.7.0"
  },
  "varInspector": {
   "cols": {
    "lenName": 16,
    "lenType": 16,
    "lenVar": 40
   },
   "kernels_config": {
    "python": {
     "delete_cmd_postfix": "",
     "delete_cmd_prefix": "del ",
     "library": "var_list.py",
     "varRefreshCmd": "print(var_dic_list())"
    },
    "r": {
     "delete_cmd_postfix": ") ",
     "delete_cmd_prefix": "rm(",
     "library": "var_list.r",
     "varRefreshCmd": "cat(var_dic_list()) "
    }
   },
   "oldHeight": 247.85000000000002,
   "position": {
    "height": "40px",
    "left": "1760px",
    "right": "36px",
    "top": "119px",
    "width": "440px"
   },
   "types_to_exclude": [
    "module",
    "function",
    "builtin_function_or_method",
    "instance",
    "_Feature"
   ],
   "varInspector_section_display": "none",
   "window_display": false
  }
 },
 "nbformat": 4,
 "nbformat_minor": 2
}
