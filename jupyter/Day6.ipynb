{
 "cells": [
  {
   "cell_type": "markdown",
   "metadata": {},
   "source": [
    "[current dir](.)"
   ]
  },
  {
   "cell_type": "code",
   "execution_count": 1,
   "metadata": {
    "scrolled": true
   },
   "outputs": [
    {
     "name": "stdout",
     "output_type": "stream",
     "text": [
      "50\n",
      "(192, 220)\n",
      "(91, 338)\n",
      "(65, 319)\n",
      "(143, 310)\n",
      "(243, 205)\n"
     ]
    }
   ],
   "source": [
    "with open('inputs/Day6.txt') as file:\n",
    "    input = [x.split(', ') for x in file.read().splitlines()]\n",
    "    input = [list(map(int, val)) for val in input] #parse\n",
    "    input = [tuple(x) for x in input] #tupleize\n",
    "    \n",
    "print(len(input), *input[:5], sep=\"\\n\")"
   ]
  },
  {
   "cell_type": "markdown",
   "metadata": {},
   "source": [
    "Part 1"
   ]
  },
  {
   "cell_type": "code",
   "execution_count": 3,
   "metadata": {
    "scrolled": true
   },
   "outputs": [
    {
     "data": {
      "text/plain": [
       "3871"
      ]
     },
     "execution_count": 3,
     "metadata": {},
     "output_type": "execute_result"
    }
   ],
   "source": [
    "from collections import defaultdict\n",
    "\n",
    "def part1():\n",
    "    book = defaultdict(int)\n",
    "    grid = []\n",
    "    for y in range(max([y for (x,y) in input])+1):\n",
    "        grid.append([0] * (max([x for (x,y) in input])+1))\n",
    "    \n",
    "    #assign grid values\n",
    "    for y in range(len(grid)):\n",
    "        for x in range(len(grid[y])):\n",
    "            dists = {idx: abs(x-ax) + abs(y-ay) for idx, (ax,ay) in enumerate(input)}\n",
    "            closest = min(dists, key=dists.get)\n",
    "            if len([k for k in dists.values() if k == min(dists.values())]) == 1: #no tie\n",
    "                book[closest] += 1\n",
    "                grid[y][x] = closest\n",
    "    \n",
    "    #disqualify dots on edges\n",
    "    for i in range(len(grid[0])):\n",
    "        book[grid[0][i]] = 0 \n",
    "        book[grid[-1][i]] = 0\n",
    "    for i in range(len(grid)):\n",
    "        book[grid[i][0]] = 0 \n",
    "        book[grid[i][-1]] = 0\n",
    "    \n",
    "    return max(book.values())\n",
    "    \n",
    "part1()"
   ]
  },
  {
   "cell_type": "markdown",
   "metadata": {},
   "source": [
    "Part 2"
   ]
  },
  {
   "cell_type": "code",
   "execution_count": 4,
   "metadata": {},
   "outputs": [
    {
     "data": {
      "text/plain": [
       "44667"
      ]
     },
     "execution_count": 4,
     "metadata": {},
     "output_type": "execute_result"
    }
   ],
   "source": [
    "def part2():    \n",
    "    i = 0\n",
    "    for y in range(max([y for (x,y) in input])):\n",
    "        for x in range(max([x for (x,y) in input])):\n",
    "            if sum([abs(x-ax) + abs(y-ay) for ax,ay in input]) < 10000:\n",
    "                i += 1\n",
    "    return i\n",
    "    \n",
    "part2()"
   ]
  }
 ],
 "metadata": {
  "kernelspec": {
   "display_name": "Python 3",
   "language": "python",
   "name": "python3"
  },
  "language_info": {
   "codemirror_mode": {
    "name": "ipython",
    "version": 3
   },
   "file_extension": ".py",
   "mimetype": "text/x-python",
   "name": "python",
   "nbconvert_exporter": "python",
   "pygments_lexer": "ipython3",
   "version": "3.7.0"
  }
 },
 "nbformat": 4,
 "nbformat_minor": 2
}
