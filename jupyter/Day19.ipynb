{
 "cells": [
  {
   "cell_type": "markdown",
   "metadata": {},
   "source": [
    "[current dir](.)"
   ]
  },
  {
   "cell_type": "code",
   "execution_count": 1,
   "metadata": {
    "ExecuteTime": {
     "start_time": "2018-12-09T22:37:27.486Z"
    }
   },
   "outputs": [
    {
     "name": "stdout",
     "output_type": "stream",
     "text": [
      "ip 5\n",
      "36\n",
      "addi 5 16 5\n",
      "seti 1 2 2\n",
      "seti 1 0 4\n",
      "mulr 2 4 3\n",
      "eqrr 3 1 3\n",
      "addr 3 5 5\n",
      "addi 5 1 5\n",
      "addr 2 0 0\n",
      "addi 4 1 4\n",
      "gtrr 4 1 3\n"
     ]
    }
   ],
   "source": [
    "# filename = 'inputs/Day19-example.txt'\n",
    "filename = 'inputs/Day19.txt'\n",
    "inputs = open(filename).read().splitlines()\n",
    "ip = inputs[0][-1]\n",
    "lines = inputs[1:]\n",
    "\n",
    "print(\"ip\", ip)\n",
    "print(len(lines), *lines[:10], sep='\\n')"
   ]
  },
  {
   "cell_type": "code",
   "execution_count": 2,
   "metadata": {},
   "outputs": [
    {
     "name": "stdout",
     "output_type": "stream",
     "text": [
      "5 [['addi', 5, 16, 5], ['seti', 1, 2, 2], ['seti', 1, 0, 4], ['mulr', 2, 4, 3], ['eqrr', 3, 1, 3], ['addr', 3, 5, 5], ['addi', 5, 1, 5], ['addr', 2, 0, 0], ['addi', 4, 1, 4], ['gtrr', 4, 1, 3], ['addr', 5, 3, 5], ['seti', 2, 4, 5], ['addi', 2, 1, 2], ['gtrr', 2, 1, 3], ['addr', 3, 5, 5], ['seti', 1, 1, 5], ['mulr', 5, 5, 5], ['addi', 1, 2, 1], ['mulr', 1, 1, 1], ['mulr', 5, 1, 1], ['muli', 1, 11, 1], ['addi', 3, 6, 3], ['mulr', 3, 5, 3], ['addi', 3, 15, 3], ['addr', 1, 3, 1], ['addr', 5, 0, 5], ['seti', 0, 7, 5], ['setr', 5, 8, 3], ['mulr', 3, 5, 3], ['addr', 5, 3, 3], ['mulr', 5, 3, 3], ['muli', 3, 14, 3], ['mulr', 3, 5, 3], ['addr', 1, 3, 1], ['seti', 0, 0, 0], ['seti', 0, 6, 5]]\n"
     ]
    }
   ],
   "source": [
    "import re\n",
    "\n",
    "ip = int(ip)\n",
    "inst = []\n",
    "for line in lines:\n",
    "    m = re.match('(\\w+) (\\d+) (\\d+) (\\d+)', line)\n",
    "    res = m.groups()\n",
    "    inst.append([res[0]] + list(map(int, res[1:])))\n",
    "print(ip, inst)"
   ]
  },
  {
   "cell_type": "code",
   "execution_count": 3,
   "metadata": {},
   "outputs": [],
   "source": [
    "iset = {\n",
    "    'addr': lambda registers, a, b: registers[a] + registers[b], \n",
    "    'addi': lambda registers, a, b: registers[a] + b,\n",
    "    'mulr': lambda registers, a, b: registers[a] * registers[b], \n",
    "    'muli': lambda registers, a, b: registers[a] * b,\n",
    "    'banr': lambda registers, a, b: registers[a] & registers[b], \n",
    "    'bani': lambda registers, a, b: registers[a] & b,\n",
    "    'borr': lambda registers, a, b: registers[a] | registers[b], \n",
    "    'bori': lambda registers, a, b: registers[a] | b,\n",
    "    'setr': lambda registers, a, b: registers[a], \n",
    "    'seti': lambda registers, a, b: a,\n",
    "    'gtir': lambda registers, a, b: int(a > registers[b]), \n",
    "    'gtri': lambda registers, a, b: int(registers[a] > b), \n",
    "    'gtrr': lambda registers, a, b: int(registers[a] > registers[b]),\n",
    "    'eqir': lambda registers, a, b: int(a == registers[b]), \n",
    "    'eqri': lambda registers, a, b: int(registers[a] == b), \n",
    "    'eqrr': lambda registers, a, b: int(registers[a] == registers[b])\n",
    "}"
   ]
  },
  {
   "cell_type": "markdown",
   "metadata": {},
   "source": [
    "Part 1"
   ]
  },
  {
   "cell_type": "code",
   "execution_count": 4,
   "metadata": {},
   "outputs": [
    {
     "name": "stdout",
     "output_type": "stream",
     "text": [
      "984\n"
     ]
    }
   ],
   "source": [
    "def part1():\n",
    "    ipi, registers = 0, [0] * 6\n",
    "    for c in range(10000000):\n",
    "        if ipi >= len(inst):\n",
    "            print(registers[0])\n",
    "            break\n",
    "        registers[ip] = ipi\n",
    "        l = inst[ipi]\n",
    "        registers[l[3]] = iset[l[0]](registers, l[1], l[2])\n",
    "        ipi = registers[ip]\n",
    "        ipi += 1\n",
    "    \n",
    "part1()"
   ]
  },
  {
   "cell_type": "markdown",
   "metadata": {},
   "source": [
    "Part 2"
   ]
  },
  {
   "cell_type": "code",
   "execution_count": 18,
   "metadata": {},
   "outputs": [
    {
     "name": "stdout",
     "output_type": "stream",
     "text": [
      "10982400\n"
     ]
    }
   ],
   "source": [
    "def part2():\n",
    "    ipi, registers = 0, [1] + [0] * 5\n",
    "    while ipi != 1: #run everything up to the loop\n",
    "        if ipi >= len(inst):\n",
    "            print(ipi, l, ip, registers)\n",
    "            print(c, registers[0])\n",
    "            break\n",
    "        registers[ip] = ipi\n",
    "        l = inst[ipi]        \n",
    "        registers[l[3]] = iset[l[0]](registers, l[1], l[2])\n",
    "        ipi = registers[ip]\n",
    "        ipi += 1\n",
    "    \n",
    "    # Now let's take care of the loop itself.\n",
    "    # I reverse engineered the whole program,\n",
    "    # and what the loop from 3 to 11 does is this:\n",
    "    #     r0 = 0\n",
    "    #     for p in range(1, registers[1]+1):\n",
    "    #         for q in range(registers[1]):\n",
    "    #             if p * q == registers[1]:\n",
    "    #                 r0 += p\n",
    "    # In other words, r0 becomes the sum of factors of registers[1]\n",
    "    # After this, the program quits by doing register = 16 * 5.\n",
    "    \n",
    "    # So let's go about it more efficiently :\n",
    "    # print(sum([p for p in range(1, registers[1]+1) if registers[1] % p == 0]))\n",
    "    \n",
    "    # Or even more efficient:\n",
    "    print(int(sum([p + registers[1]/p for p in range(1, int(math.sqrt(registers[1]+1))+1) if registers[1] % p == 0])))\n",
    "\n",
    "    \n",
    "part2()"
   ]
  }
 ],
 "metadata": {
  "kernelspec": {
   "display_name": "Python 3",
   "language": "python",
   "name": "python3"
  },
  "language_info": {
   "codemirror_mode": {
    "name": "ipython",
    "version": 3
   },
   "file_extension": ".py",
   "mimetype": "text/x-python",
   "name": "python",
   "nbconvert_exporter": "python",
   "pygments_lexer": "ipython3",
   "version": "3.7.0"
  },
  "varInspector": {
   "cols": {
    "lenName": 16,
    "lenType": 16,
    "lenVar": 40
   },
   "kernels_config": {
    "python": {
     "delete_cmd_postfix": "",
     "delete_cmd_prefix": "del ",
     "library": "var_list.py",
     "varRefreshCmd": "print(var_dic_list())"
    },
    "r": {
     "delete_cmd_postfix": ") ",
     "delete_cmd_prefix": "rm(",
     "library": "var_list.r",
     "varRefreshCmd": "cat(var_dic_list()) "
    }
   },
   "oldHeight": 247.85000000000002,
   "position": {
    "height": "40px",
    "left": "1760px",
    "right": "36px",
    "top": "119px",
    "width": "440px"
   },
   "types_to_exclude": [
    "module",
    "function",
    "builtin_function_or_method",
    "instance",
    "_Feature"
   ],
   "varInspector_section_display": "none",
   "window_display": false
  }
 },
 "nbformat": 4,
 "nbformat_minor": 2
}
