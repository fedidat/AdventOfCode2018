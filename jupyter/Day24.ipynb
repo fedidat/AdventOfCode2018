{
 "cells": [
  {
   "cell_type": "markdown",
   "metadata": {},
   "source": [
    "[current dir](.)"
   ]
  },
  {
   "cell_type": "code",
   "execution_count": null,
   "metadata": {},
   "outputs": [],
   "source": [
    "# immune_system_input = \"\"\"17 5390 weak radiation bludgeoning;4507 fire 2\n",
    "# 989 1274 immune fire weak bludgeoning slashing;25 slashing 3\"\"\"\n",
    "# infection_input = \"\"\"801 4706 weak radiation;116 bludgeoning 1\n",
    "# 4485 2961 immune radiation weak fire cold;12 slashing 4\"\"\"\n",
    "\n",
    "immune_system_input = \"\"\"2785 4474 weak cold;14 fire 20\n",
    "4674 7617 immune slashing bludgeoning weak fire;15 slashing 15\n",
    "1242 1934 weak fire;15 bludgeoning 6\n",
    "1851 9504 weak bludgeoning;47 slashing 2\n",
    "846 9124 weak bludgeoning immune radiation;99 bludgeoning 4\n",
    "338 1378 immune radiation;39 cold 10\n",
    "3308 5087 weak radiation;12 fire 3\n",
    "2668 8316 weak bludgeoning radiation;28 slashing 9\n",
    "809 1756 immune bludgeoning;21 cold 1\n",
    "4190 8086 immune cold;18 cold 5\"\"\"\n",
    "infection_input = \"\"\"2702 10159;7 fire 7\n",
    "73 14036 weak fire;384 radiation 18\n",
    "4353 35187;15 slashing 14\n",
    "370 9506 weak bludgeoning radiation;46 slashing 12\n",
    "4002 22582 weak radiation cold;11 fire 8\n",
    "1986 24120 immune fire;22 radiation 11\n",
    "1054 17806;25 cold 16\n",
    "124 37637;589 cold 19\n",
    "869 11019 weak fire;24 cold 17\n",
    "3840 38666 immune slashing fire bludgeoning;19 bludgeoning 13\"\"\""
   ]
  },
  {
   "cell_type": "code",
   "execution_count": null,
   "metadata": {},
   "outputs": [],
   "source": [
    "class Group:\n",
    "    def __init__(self, side, line, boost=0):\n",
    "        self.side = side\n",
    "\n",
    "        attribs, attack = line.split(';')\n",
    "        units, hp, *type_mods = attribs.split()\n",
    "        units=int(units)\n",
    "        hp=int(hp)\n",
    "        weak = []\n",
    "        immune = []\n",
    "        cur = None\n",
    "        for w in type_mods:\n",
    "            if w == \"weak\":\n",
    "                cur = weak\n",
    "            elif w == \"immune\":\n",
    "                cur = immune\n",
    "            else:\n",
    "                cur.append(w)\n",
    "\n",
    "        self.units = units\n",
    "        self.hp = hp\n",
    "        self.weak = weak\n",
    "        self.immune = immune\n",
    "\n",
    "        attack_amount, attack_type, initiative = attack.split()\n",
    "        attack_amount = int(attack_amount)\n",
    "        initiative = int(initiative)\n",
    "\n",
    "        self.attack = attack_amount + boost\n",
    "        self.attack_type = attack_type\n",
    "        self.initiative = initiative\n",
    "\n",
    "        self.attacker = None\n",
    "        self.target = None\n",
    "\n",
    "    def clear(self):\n",
    "        self.attacker = None\n",
    "        self.target = None\n",
    "\n",
    "    def choose(self, groups):\n",
    "        assert self.target is None\n",
    "        cands = [group for group in groups\n",
    "                if group.side != self.side\n",
    "                and group.attacker is None\n",
    "                and self.damage_prio(group)[0] > 0]\n",
    "        if cands:\n",
    "            self.target = max(cands, key=lambda group: self.damage_prio(group))\n",
    "            assert self.target.attacker is None\n",
    "            self.target.attacker = self\n",
    "\n",
    "    def effective_power(self):\n",
    "        return self.units * self.attack\n",
    "\n",
    "    def target_prio(self):\n",
    "        return (-self.effective_power(), -self.initiative)\n",
    "\n",
    "    def damage_prio(self, target):\n",
    "        if target.units == 0:\n",
    "            return (0, 0, 0)\n",
    "        if self.attack_type in target.immune:\n",
    "            return (0, 0, 0)\n",
    "        mul = 1\n",
    "        if self.attack_type in target.weak:\n",
    "            mul = 2\n",
    "        return (mul * self.units * self.attack, target.effective_power(), target.initiative)\n",
    "\n",
    "    def do_attack(self, target):\n",
    "        total_attack = self.damage_prio(target)[0]\n",
    "        killed = total_attack // target.hp\n",
    "        target.units = max(0, target.units - killed)"
   ]
  },
  {
   "cell_type": "code",
   "execution_count": null,
   "metadata": {},
   "outputs": [],
   "source": [
    "def solve(boost):\n",
    "    immune_system_groups = [Group(False, line, boost) for line in immune_system_input.split(\"\\n\")]\n",
    "    infection_groups = [Group(True, line) for line in infection_input.split(\"\\n\")]\n",
    "    \n",
    "    groups = immune_system_groups + infection_groups\n",
    "\n",
    "    old = (-1, -1)\n",
    "    while True:\n",
    "        groups = sorted(groups, key=lambda group: group.target_prio())\n",
    "        for group in groups:\n",
    "            group.clear()\n",
    "        for group in groups:\n",
    "            group.choose(groups)\n",
    "        groups = sorted(groups, key=lambda group: -group.initiative)\n",
    "        for group in groups:\n",
    "            if group.target:\n",
    "                group.do_attack(group.target)\n",
    "\n",
    "        immune_system_units = sum(group.units for group in groups if group.side == False)\n",
    "        infection_units = sum(group.units for group in groups if group.side == True)\n",
    "        if (immune_system_units, infection_units) == old:\n",
    "            return (immune_system_units, infection_units)\n",
    "        old = (immune_system_units, infection_units)"
   ]
  },
  {
   "cell_type": "markdown",
   "metadata": {},
   "source": [
    "Part 1"
   ]
  },
  {
   "cell_type": "code",
   "execution_count": null,
   "metadata": {},
   "outputs": [],
   "source": [
    "def part1():\n",
    "    return solve(0)[1]\n",
    "\n",
    "part1()"
   ]
  },
  {
   "cell_type": "markdown",
   "metadata": {},
   "source": [
    "Part 2"
   ]
  },
  {
   "cell_type": "code",
   "execution_count": null,
   "metadata": {},
   "outputs": [],
   "source": [
    "def part2():\n",
    "    for boost in range(1000000):\n",
    "        ans = solve(boost)\n",
    "        if ans[1] == 0:\n",
    "            return ans[0]\n",
    "        \n",
    "part2()"
   ]
  }
 ],
 "metadata": {
  "kernelspec": {
   "display_name": "Python 3",
   "language": "python",
   "name": "python3"
  },
  "language_info": {
   "codemirror_mode": {
    "name": "ipython",
    "version": 3
   },
   "file_extension": ".py",
   "mimetype": "text/x-python",
   "name": "python",
   "nbconvert_exporter": "python",
   "pygments_lexer": "ipython3",
   "version": "3.7.0"
  },
  "varInspector": {
   "cols": {
    "lenName": 16,
    "lenType": 16,
    "lenVar": 40
   },
   "kernels_config": {
    "python": {
     "delete_cmd_postfix": "",
     "delete_cmd_prefix": "del ",
     "library": "var_list.py",
     "varRefreshCmd": "print(var_dic_list())"
    },
    "r": {
     "delete_cmd_postfix": ") ",
     "delete_cmd_prefix": "rm(",
     "library": "var_list.r",
     "varRefreshCmd": "cat(var_dic_list()) "
    }
   },
   "oldHeight": 247.85000000000002,
   "position": {
    "height": "40px",
    "left": "1760px",
    "right": "36px",
    "top": "119px",
    "width": "440px"
   },
   "types_to_exclude": [
    "module",
    "function",
    "builtin_function_or_method",
    "instance",
    "_Feature"
   ],
   "varInspector_section_display": "none",
   "window_display": false
  }
 },
 "nbformat": 4,
 "nbformat_minor": 2
}
