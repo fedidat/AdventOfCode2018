{
 "cells": [
  {
   "cell_type": "markdown",
   "metadata": {},
   "source": [
    "[current dir](.)"
   ]
  },
  {
   "cell_type": "code",
   "execution_count": 14,
   "metadata": {
    "ExecuteTime": {
     "start_time": "2018-12-09T22:37:27.486Z"
    }
   },
   "outputs": [
    {
     "name": "stdout",
     "output_type": "stream",
     "text": [
      "1470 ['x=581, y=396..399', 'y=1491, x=566..573', 'y=1470, x=599..601', 'y=980, x=526..541', 'y=1173, x=487..497', 'y=402, x=616..623', 'y=361, x=534..577', 'x=461, y=1151..1163', 'x=530, y=431..443', 'x=426, y=976..980']\n"
     ]
    }
   ],
   "source": [
    "# filename = 'inputs/Day17-example.txt'\n",
    "filename = 'inputs/Day17.txt'\n",
    "lines = open(filename).read().splitlines()\n",
    "\n",
    "print(len(lines), lines[:10])"
   ]
  },
  {
   "cell_type": "code",
   "execution_count": 2,
   "metadata": {},
   "outputs": [],
   "source": [
    "def dropFrom(grid, x, y):\n",
    "    if y >= len(grid)-1: # out of grid\n",
    "        return\n",
    "    if grid[y+1][x] == '.': # drop down\n",
    "        grid[y+1][x] = '|'\n",
    "        dropFrom(grid, x, y+1)\n",
    "    if grid[y+1][x] in '#~' and grid[y][x+1] == '.': # go right\n",
    "        grid[y][x+1] = '|'\n",
    "        dropFrom(grid, x+1, y)\n",
    "    if grid[y+1][x] in '#~' and grid[y][x-1] == '.': # go left\n",
    "        grid[y][x-1] = '|'\n",
    "        dropFrom(grid, x-1, y)\n",
    "    if iswalled(grid, x, y):# if walled, fill to nearby walls\n",
    "        filltowalls(grid, x, y)"
   ]
  },
  {
   "cell_type": "code",
   "execution_count": 3,
   "metadata": {},
   "outputs": [],
   "source": [
    "def iswalled(grid, x, y): # walled if we reach # before an empty tile or end of grid, on both sides\n",
    "    for ix in range(x, -1, -1):\n",
    "        if grid[y][ix] == '#':\n",
    "            break\n",
    "        elif grid[y+1][ix] == '.' or ix <= 0:\n",
    "            return False\n",
    "    for ix in range(x, len(grid[0])-1):\n",
    "        if grid[y][ix] == '#':\n",
    "            break\n",
    "        elif grid[y+1][ix] == '.' or ix >= len(grid[0])-1:\n",
    "            return False\n",
    "    return True"
   ]
  },
  {
   "cell_type": "code",
   "execution_count": 4,
   "metadata": {},
   "outputs": [],
   "source": [
    "def filltowalls(grid, x, y): # expand with ~ until both walls\n",
    "    for ix in range(x, 0, -1):\n",
    "        if grid[y][ix] == '#':\n",
    "            break\n",
    "        grid[y][ix] = '~'\n",
    "    for ix in range(x, len(grid[0])-1):\n",
    "        if grid[y][ix] == '#':\n",
    "            break\n",
    "        grid[y][ix] = '~'"
   ]
  },
  {
   "cell_type": "code",
   "execution_count": 5,
   "metadata": {},
   "outputs": [],
   "source": [
    "import re\n",
    "\n",
    "def parseclay():\n",
    "    claylines = []\n",
    "    for line in lines:\n",
    "        mx, my = re.search('x=(?P<xS>\\d+)(\\.\\.(?P<xE>\\d+))?', line),  re.search('y=(?P<yS>\\d+)(\\.\\.(?P<yE>\\d+))?', line)\n",
    "        claylines.append({\n",
    "            'x': {'start': int(mx.group('xS')), 'end': int(mx.group('xE')) if mx.group('xE') != None else int(mx.group('xS'))},\n",
    "            'y': {'start': int(my.group('yS')), 'end': int(my.group('yE')) if my.group('yE') != None else int(my.group('yS'))}\n",
    "        })\n",
    "    return claylines"
   ]
  },
  {
   "cell_type": "code",
   "execution_count": 6,
   "metadata": {},
   "outputs": [],
   "source": [
    "def zerobase(claylines):\n",
    "    minX = min([clayline['x']['start'] for clayline in claylines])\n",
    "    for i in range(len(claylines)):\n",
    "        for k in claylines[i]['x']:\n",
    "            claylines[i]['x'][k] -= minX-1\n",
    "    return minX, claylines"
   ]
  },
  {
   "cell_type": "code",
   "execution_count": 7,
   "metadata": {},
   "outputs": [],
   "source": [
    "def setupgrid(xDim, yDim, claylines, pumpX):\n",
    "    grid = [['.' for _ in range(xDim+1)] for _ in range(yDim+1)]\n",
    "    for p in claylines:\n",
    "        for x in range(p['x']['start'], p['x']['end']+1):\n",
    "            for y in range(p['y']['start'], p['y']['end']+1):\n",
    "                grid[y][x] = '#'\n",
    "    grid[0][pumpX] = '+'\n",
    "    return grid"
   ]
  },
  {
   "cell_type": "code",
   "execution_count": 8,
   "metadata": {},
   "outputs": [],
   "source": [
    "def simulate():\n",
    "    claylines = parseclay() # parse input to areas of clay\n",
    "    minX, claylines = zerobase(claylines) # make coordinates zero-based\n",
    "\n",
    "    pumpX = 500-minX #calculate new zero-based X position for the pump\n",
    "    org = [[clayline[axis][ext] for clayline in claylines] for axis in ['x', 'y'] for ext in ['start', 'end']]\n",
    "    (minX, maxX, minY, maxY) = (min(org[0]), max(org[1]), min(org[2]), max(org[3])) # assign mix/max X/Y\n",
    "    grid = setupgrid(maxX+1, maxY, claylines, pumpX) # setup the grid\n",
    "    \n",
    "    dropFrom(grid, pumpX, 0) # simulate\n",
    "    return grid[minY:]"
   ]
  },
  {
   "cell_type": "markdown",
   "metadata": {},
   "source": [
    "Part 1"
   ]
  },
  {
   "cell_type": "code",
   "execution_count": 15,
   "metadata": {},
   "outputs": [
    {
     "name": "stdout",
     "output_type": "stream",
     "text": [
      "30635\n"
     ]
    }
   ],
   "source": [
    "grid = simulate()\n",
    "print(sum([int(val in '~|') for l in grid for val in l]))"
   ]
  },
  {
   "cell_type": "markdown",
   "metadata": {},
   "source": [
    "Part 2"
   ]
  },
  {
   "cell_type": "code",
   "execution_count": 16,
   "metadata": {},
   "outputs": [
    {
     "name": "stdout",
     "output_type": "stream",
     "text": [
      "25094\n"
     ]
    }
   ],
   "source": [
    "grid = simulate()\n",
    "print(sum([int(val == '~') for l in grid for val in l]))"
   ]
  }
 ],
 "metadata": {
  "kernelspec": {
   "display_name": "Python 3",
   "language": "python",
   "name": "python3"
  },
  "language_info": {
   "codemirror_mode": {
    "name": "ipython",
    "version": 3
   },
   "file_extension": ".py",
   "mimetype": "text/x-python",
   "name": "python",
   "nbconvert_exporter": "python",
   "pygments_lexer": "ipython3",
   "version": "3.7.0"
  },
  "varInspector": {
   "cols": {
    "lenName": 16,
    "lenType": 16,
    "lenVar": 40
   },
   "kernels_config": {
    "python": {
     "delete_cmd_postfix": "",
     "delete_cmd_prefix": "del ",
     "library": "var_list.py",
     "varRefreshCmd": "print(var_dic_list())"
    },
    "r": {
     "delete_cmd_postfix": ") ",
     "delete_cmd_prefix": "rm(",
     "library": "var_list.r",
     "varRefreshCmd": "cat(var_dic_list()) "
    }
   },
   "oldHeight": 247.85000000000002,
   "position": {
    "height": "40px",
    "left": "1760px",
    "right": "36px",
    "top": "119px",
    "width": "440px"
   },
   "types_to_exclude": [
    "module",
    "function",
    "builtin_function_or_method",
    "instance",
    "_Feature"
   ],
   "varInspector_section_display": "none",
   "window_display": false
  }
 },
 "nbformat": 4,
 "nbformat_minor": 2
}
