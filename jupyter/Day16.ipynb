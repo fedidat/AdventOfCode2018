{
 "cells": [
  {
   "cell_type": "markdown",
   "metadata": {},
   "source": [
    "[current dir](.)"
   ]
  },
  {
   "cell_type": "code",
   "execution_count": 7,
   "metadata": {
    "ExecuteTime": {
     "start_time": "2018-12-09T22:37:27.486Z"
    }
   },
   "outputs": [
    {
     "name": "stdout",
     "output_type": "stream",
     "text": [
      "['Before: [3, 0, 1, 3]', '15 2 1 3', 'After:  [3, 0, 1, 1]', '', 'Before: [1, 3, 2, 0]', '11 2 2 0', 'After:  [4, 3, 2, 0]', '', 'Before: [0, 3, 3, 1]', '14 3 2 0']\n",
      "...\n",
      "['After:  [0, 0, 2, 4]', '', 'Before: [2, 3, 1, 2]', '9 2 1 3', 'After:  [2, 3, 1, 1]', '', 'Before: [0, 3, 1, 1]', '6 0 0 3', 'After:  [0, 3, 1, 0]', '']\n",
      "['1 0 0 1', '4 1 1 1', '14 0 0 3', '14 3 2 2', '12 3 2 1', '1 1 2 1', '11 1 0 0', '3 0 2 1', '14 2 2 0', '9 0 2 0']\n",
      "...\n",
      "['1 2 3 2', '11 2 1 1', '3 1 1 3', '14 2 2 2', '14 2 2 1', '14 1 3 0', '3 0 2 1', '1 1 2 1', '11 3 1 3', '3 3 2 0']\n"
     ]
    }
   ],
   "source": [
    "filename = 'inputs/Day16.txt'\n",
    "lines = open(filename).read().splitlines()\n",
    "\n",
    "p1 = lines[:3172]\n",
    "p2 = lines[3174:]\n",
    "print(p1[:10], \"...\", p1[-10:], sep=\"\\n\")\n",
    "print(p2[:10], \"...\", p2[-10:], sep=\"\\n\")"
   ]
  },
  {
   "cell_type": "markdown",
   "metadata": {},
   "source": [
    "Part 1"
   ]
  },
  {
   "cell_type": "code",
   "execution_count": 118,
   "metadata": {
    "ExecuteTime": {
     "start_time": "2018-12-09T22:37:12.082Z"
    },
    "code_folding": [],
    "run_control": {
     "marked": false
    }
   },
   "outputs": [
    {
     "data": {
      "text/plain": [
       "493"
      ]
     },
     "execution_count": 118,
     "metadata": {},
     "output_type": "execute_result"
    }
   ],
   "source": [
    "import re\n",
    "    \n",
    "def part1():\n",
    "    match3 = 0\n",
    "    \n",
    "    for i in range(0, len(p1), 4):\n",
    "        beforeS, instS, afterS = p1[i:i+3]\n",
    "        m = re.search('^Before: \\[(\\d), (\\d), (\\d), (\\d)\\]$', beforeS)\n",
    "        before = [int(v) for v in m.groups()]\n",
    "        m = re.search('^(\\d+) (\\d+) (\\d+) (\\d+)$', instS)\n",
    "        inst = [int(v) for v in m.groups()]\n",
    "        m = re.search('^After:  \\[(\\d), (\\d), (\\d), (\\d)\\]$', afterS)\n",
    "        after = [int(v) for v in m.groups()]\n",
    "        \n",
    "        matching = {\n",
    "            'addr': after[inst[3]] == (before[inst[1]] + before[inst[2]]),\n",
    "            'addi': after[inst[3]] == (before[inst[1]] + inst[2]),\n",
    "            'mulr': after[inst[3]] == (before[inst[1]] * before[inst[2]]),\n",
    "            'muli': after[inst[3]] == (before[inst[1]] * inst[2]),\n",
    "            'banr': after[inst[3]] == (before[inst[1]] & before[inst[2]]),\n",
    "            'bani': after[inst[3]] == (before[inst[1]] & inst[2]),\n",
    "            'borr': after[inst[3]] == (before[inst[1]] | before[inst[2]]),\n",
    "            'bori': after[inst[3]] == (before[inst[1]] | inst[2]),\n",
    "            'setr': after[inst[3]] == before[inst[1]],\n",
    "            'seti': after[inst[3]] == inst[1],\n",
    "            'gtir': after[inst[3]] == (inst[1] > before[inst[2]]),\n",
    "            'gtri': after[inst[3]] == (before[inst[1]] > inst[2]),\n",
    "            'gtrr': after[inst[3]] == (before[inst[1]] > before[inst[2]]),\n",
    "            'eqir': after[inst[3]] == (inst[1] == before[inst[2]]),\n",
    "            'eqri': after[inst[3]] == (before[inst[1]] == inst[2]),\n",
    "            'eqrr': after[inst[3]] == (before[inst[1]] == before[inst[2]]) \n",
    "        }\n",
    "        if sum(matching.values()) >= 3:\n",
    "            match3 += 1\n",
    "                \n",
    "    return match3\n",
    "    \n",
    "part1()"
   ]
  },
  {
   "cell_type": "markdown",
   "metadata": {},
   "source": [
    "Part 2"
   ]
  },
  {
   "cell_type": "code",
   "execution_count": 70,
   "metadata": {},
   "outputs": [
    {
     "name": "stdout",
     "output_type": "stream",
     "text": [
      "445\n"
     ]
    }
   ],
   "source": [
    "import re\n",
    "\n",
    "instructions = {\n",
    "    'addr': lambda registers, a, b: registers[a] + registers[b], \n",
    "    'addi': lambda registers, a, b: registers[a] + b,\n",
    "    'mulr': lambda registers, a, b: registers[a] * registers[b], \n",
    "    'muli': lambda registers, a, b: registers[a] * b,\n",
    "    'banr': lambda registers, a, b: registers[a] & registers[b], \n",
    "    'bani': lambda registers, a, b: registers[a] & b,\n",
    "    'borr': lambda registers, a, b: registers[a] | registers[b], \n",
    "    'bori': lambda registers, a, b: registers[a] | b,\n",
    "    'setr': lambda registers, a, b: registers[a], \n",
    "    'seti': lambda registers, a, b: a,\n",
    "    'gtir': lambda registers, a, b: int(a > registers[b]), \n",
    "    'gtri': lambda registers, a, b: int(registers[a] > b), \n",
    "    'gtrr': lambda registers, a, b: int(registers[a] > registers[b]),\n",
    "    'eqir': lambda registers, a, b: int(a == registers[b]), \n",
    "    'eqri': lambda registers, a, b: int(registers[a] == b), \n",
    "    'eqrr': lambda registers, a, b: int(registers[a] == registers[b])\n",
    "}\n",
    "\n",
    "def part2():\n",
    "    # Process matches between opcodes and cases\n",
    "    matches = {opcode: [i for i in range(len(instructions))] for opcode in instructions.keys()}\n",
    "    for i in range(0, len(p1), 4):\n",
    "        beforeS, instS, afterS = p1[i:i+3]\n",
    "        m = re.search('^Before: \\[(\\d), (\\d), (\\d), (\\d)\\]$', beforeS)\n",
    "        before = [int(v) for v in m.groups()]\n",
    "        m = re.search('^(\\d+) (\\d+) (\\d+) (\\d+)$', instS)\n",
    "        inst = [int(v) for v in m.groups()]\n",
    "        m = re.search('^After:  \\[(\\d), (\\d), (\\d), (\\d)\\]$', afterS)\n",
    "        after = [int(v) for v in m.groups()]\n",
    "        for opcode in instructions.keys():\n",
    "            if instructions[opcode](before, inst[1], inst[2]) != after[inst[3]] and inst[0] in matches[opcode]:\n",
    "                    matches[opcode].remove(inst[0])\n",
    "              \n",
    "    # Resolve matches\n",
    "    solvedinst = {}\n",
    "    singles = {o: v[0] for o, v in matches.items() if len(v) == 1 and o not in solvedinst.keys()}\n",
    "    while len(singles) > 0:\n",
    "        matches = {i:v for i,v in matches.items() if i not in singles.keys()}\n",
    "        for opcode, finalvalue in singles.items():\n",
    "            solvedinst[finalvalue] = opcode\n",
    "            matches = {i: [p for p in possible if finalvalue != p] for i, possible in matches.items()}\n",
    "        singles = {o: v[0] for o, v in matches.items() if len(v) == 1 and o not in solvedinst.keys()}\n",
    "    \n",
    "    # Simulate the program\n",
    "    registers = [0, 0, 0, 0]\n",
    "    for line in p2:\n",
    "        m = re.search('^(\\d+) (\\d+) (\\d+) (\\d+)$', line)\n",
    "        ix = [int(v) for v in m.groups()]\n",
    "        opc = solvedinst[ix[0]]\n",
    "        registers[ix[3]] = instructions[opc](registers, ix[1], ix[2])\n",
    "    print(registers[0])\n",
    "    \n",
    "part2()"
   ]
  }
 ],
 "metadata": {
  "kernelspec": {
   "display_name": "Python 3",
   "language": "python",
   "name": "python3"
  },
  "language_info": {
   "codemirror_mode": {
    "name": "ipython",
    "version": 3
   },
   "file_extension": ".py",
   "mimetype": "text/x-python",
   "name": "python",
   "nbconvert_exporter": "python",
   "pygments_lexer": "ipython3",
   "version": "3.7.0"
  },
  "varInspector": {
   "cols": {
    "lenName": 16,
    "lenType": 16,
    "lenVar": 40
   },
   "kernels_config": {
    "python": {
     "delete_cmd_postfix": "",
     "delete_cmd_prefix": "del ",
     "library": "var_list.py",
     "varRefreshCmd": "print(var_dic_list())"
    },
    "r": {
     "delete_cmd_postfix": ") ",
     "delete_cmd_prefix": "rm(",
     "library": "var_list.r",
     "varRefreshCmd": "cat(var_dic_list()) "
    }
   },
   "oldHeight": 247.85000000000002,
   "position": {
    "height": "40px",
    "left": "1760px",
    "right": "36px",
    "top": "119px",
    "width": "440px"
   },
   "types_to_exclude": [
    "module",
    "function",
    "builtin_function_or_method",
    "instance",
    "_Feature"
   ],
   "varInspector_section_display": "none",
   "window_display": false
  }
 },
 "nbformat": 4,
 "nbformat_minor": 2
}
