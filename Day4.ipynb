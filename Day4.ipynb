{
 "cells": [
  {
   "cell_type": "markdown",
   "metadata": {},
   "source": [
    "[current dir](.)"
   ]
  },
  {
   "cell_type": "code",
   "execution_count": 1,
   "metadata": {
    "scrolled": true
   },
   "outputs": [
    {
     "name": "stdout",
     "output_type": "stream",
     "text": [
      "['[1518-03-30 00:57] wakes up', '[1518-04-15 23:56] Guard #2213 begins shift', '[1518-10-31 00:36] wakes up', '[1518-11-14 00:03] Guard #2129 begins shift', '[1518-04-01 00:54] wakes up']\n"
     ]
    }
   ],
   "source": [
    "with open('inputs/Day4.txt') as file:\n",
    "    inputlines = file.read().splitlines()\n",
    "print(inputlines[:5])"
   ]
  },
  {
   "cell_type": "code",
   "execution_count": 2,
   "metadata": {},
   "outputs": [
    {
     "data": {
      "text/plain": [
       "[[datetime.datetime(1518, 3, 27, 0, 3), [3, 2251]],\n",
       " [datetime.datetime(1518, 3, 27, 0, 11), [2, 0]],\n",
       " [datetime.datetime(1518, 3, 27, 0, 57), [1, 0]],\n",
       " [datetime.datetime(1518, 3, 27, 23, 58), [3, 3319]],\n",
       " [datetime.datetime(1518, 3, 28, 0, 16), [2, 0]]]"
      ]
     },
     "execution_count": 2,
     "metadata": {},
     "output_type": "execute_result"
    }
   ],
   "source": [
    "import re\n",
    "from datetime import datetime\n",
    "\n",
    "def codeevent(e):\n",
    "    if e == 'wakes up':\n",
    "        return [1, 0]\n",
    "    if e == 'falls asleep':\n",
    "        return [2, 0]\n",
    "    if e[:5] == 'Guard':\n",
    "        m = re.search('\\w #(\\d+) .*', e)\n",
    "        return [3, int(m.group(1))]\n",
    "\n",
    "def parse(input):\n",
    "    input = []\n",
    "    for line in inputlines:\n",
    "        m = re.search('^\\[(\\d+-\\d+-\\d+ \\d+:\\d+)\\] (.*)', line)\n",
    "        input.append(m.groups())\n",
    "    input = list(map(lambda e:\n",
    "        [\n",
    "            datetime.strptime(e[0], '%Y-%m-%d %H:%M'), \n",
    "            codeevent(e[1])\n",
    "        ], input))\n",
    "    return sorted(input, key=lambda x: x[0])\n",
    "\n",
    "input = parse(input)\n",
    "input[:5]"
   ]
  },
  {
   "cell_type": "markdown",
   "metadata": {},
   "source": [
    "Part 1"
   ]
  },
  {
   "cell_type": "code",
   "execution_count": 6,
   "metadata": {},
   "outputs": [
    {
     "name": "stdout",
     "output_type": "stream",
     "text": [
      "[[3, [3, 2251]], [11, [2, 0]], [57, [1, 0]], [58, [3, 3319]], [16, [2, 0]]]\n"
     ]
    },
    {
     "data": {
      "text/plain": [
       "85296"
      ]
     },
     "execution_count": 6,
     "metadata": {},
     "output_type": "execute_result"
    }
   ],
   "source": [
    "guards = {}\n",
    "def part1():\n",
    "    minutesonly = list(map(lambda x: [x[0].minute, x[1]], input))\n",
    "    print(minutesonly[:5])\n",
    "    for line in minutesonly:\n",
    "        if line[1][0] == 3:\n",
    "            curGuard = line[1][1]\n",
    "        if line[1][0] == 2:\n",
    "            start = line[0]\n",
    "        if line[1][0] == 1:\n",
    "            added = guards.get(curGuard, [])\n",
    "            added.append([start, line[0]])\n",
    "            guards[curGuard] = added\n",
    "    \n",
    "    asleep = {}\n",
    "    for key, intervals in guards.items():\n",
    "        for r in intervals:\n",
    "            asleep[key] = asleep.get(key, 0) + r[1] - r[0]\n",
    "    maxGuard = max(asleep, key=asleep.get)\n",
    "    \n",
    "    minutes = [0 for _ in range(60)]\n",
    "    for interval in guards.get(maxGuard):\n",
    "        for i in range(interval[0], interval[1]):\n",
    "            minutes[i] += 1\n",
    "    return maxGuard * minutes.index(max(minutes))\n",
    "    \n",
    "part1()"
   ]
  },
  {
   "cell_type": "markdown",
   "metadata": {},
   "source": [
    "Part 2"
   ]
  },
  {
   "cell_type": "code",
   "execution_count": 4,
   "metadata": {},
   "outputs": [
    {
     "data": {
      "text/plain": [
       "58559"
      ]
     },
     "execution_count": 4,
     "metadata": {},
     "output_type": "execute_result"
    }
   ],
   "source": [
    "from itertools import islice\n",
    "\n",
    "def part2():\n",
    "    maxGuard, maxMin, times = 0, 0, 0\n",
    "    for i in range(60):\n",
    "        for guard, intervals in guards.items():\n",
    "            sumMinGuard = len([i for r in intervals if i in range(r[0], r[1])])\n",
    "            if sumMinGuard > times:\n",
    "                maxGuard, maxMin, times = guard, i, sumMinGuard\n",
    "    return maxGuard * maxMin\n",
    "                \n",
    "part2()"
   ]
  }
 ],
 "metadata": {
  "kernelspec": {
   "display_name": "Python 3",
   "language": "python",
   "name": "python3"
  },
  "language_info": {
   "codemirror_mode": {
    "name": "ipython",
    "version": 3
   },
   "file_extension": ".py",
   "mimetype": "text/x-python",
   "name": "python",
   "nbconvert_exporter": "python",
   "pygments_lexer": "ipython3",
   "version": "3.7.0"
  }
 },
 "nbformat": 4,
 "nbformat_minor": 2
}
